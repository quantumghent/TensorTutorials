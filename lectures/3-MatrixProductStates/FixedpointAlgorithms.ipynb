{
 "cells": [
  {
   "cell_type": "markdown",
   "metadata": {},
   "source": [
    "# Fixed point algorithms\n",
    "\n",
    "In this section we introduce two algorithms for approximating the ground state of local gapped Hamiltonians using matrix product techniques. Approximating ground states in a variational manner boils down to minimizing\n",
    "$$\n",
    "    \\min_{\\ket{\\psi}\\in D} \\frac{\\braket{\\psi|H|\\psi}}{\\braket{\\psi|\\psi}},\n",
    "$$\n",
    "over a restricted class of states $D$. In the algorithms discussed below we optimize over matrix product states of a fixed finite bond dimension. In the first algorithm going by the name of DMRG (density matrix renormalization group) the states we consider are finite MPS, whereas the second algorithm VUMPS (variational uniform matrix product state algorithm) as the name suggests optimizes over uniform MPS."
   ]
  },
  {
   "cell_type": "markdown",
   "metadata": {},
   "source": [
    "## DMRG\n",
    "\n",
    "The underlying idea of DMRG is surprisingly simple but has nevertheless proven itself time and time again. Starting from a random MPS ansatz, DMRG tries to approximate the ground state by sequentially optimizing over all the MPS tensors one by one, until convergence is reached. Let us discuss this example step by step.\n",
    "\n",
    "Fixing all tensors but the one at site $i$, the local tensor $A_i$ is updated "
   ]
  },
  {
   "cell_type": "markdown",
   "metadata": {},
   "source": [
    "Let us illustrate the use of DMRG by approximating the ground state of the transverse field Ising model. The Ising model is implemented in MPSKitModels as follows\n",
    "$$\n",
    "    H = -J\\left(\\sum_{<i,j>} Z_i Z_j + \\sum_i h_x X_i + h_z Z_i\\right),\n",
    "$$\n",
    "where we are free to choose the parameters $J$, $h_x$ and $h_z$."
   ]
  },
  {
   "cell_type": "code",
   "execution_count": 3,
   "metadata": {},
   "outputs": [],
   "source": [
    "using TensorKit,MPSKit,MPSKitModels"
   ]
  },
  {
   "cell_type": "markdown",
   "metadata": {},
   "source": [
    "Let us consider 16 lattice sites, bond dimension 6, open boundary conditions and let's stick to the default critical values of $h_x=.5$ and $h_z=0$. Finding the ground state using DMRG then only takes a handful of iterations!"
   ]
  },
  {
   "cell_type": "code",
   "execution_count": 36,
   "metadata": {},
   "outputs": [],
   "source": [
    "L = 16; # Length spin chain\n",
    "D = 6; # Bond dimension\n",
    "\n",
    "H = transverse_field_ising();\n",
    "\n",
    "algorithm = DMRG(verbose=false); # Summon DMRG\n",
    "Ψ = FiniteMPS(L,ℂ^2,ℂ^D); # Construct a random MPS ansatz with bond dimension D\n",
    "Ψ₀,_ = find_groundstate(Ψ,H,algorithm);"
   ]
  },
  {
   "cell_type": "markdown",
   "metadata": {},
   "source": [
    "The ground state energy of the critical Ising model has a simple analytic expression in terms of the system size. Let us compare with the DMRG approximation. As you can see, we get the right ground state energy up to many decimal places."
   ]
  },
  {
   "cell_type": "code",
   "execution_count": 38,
   "metadata": {},
   "outputs": [
    {
     "name": "stdout",
     "output_type": "stream",
     "text": [
      "DMRG:     -5.004096867371887\n",
      "Analytic: -5.004096975121286\n"
     ]
    }
   ],
   "source": [
    "println(\"DMRG:     $(real(sum(expectation_value(Ψ₀,H))))\")\n",
    "println(\"Analytic: $(.25*(1-csc(π/(4*L+2))))\")"
   ]
  },
  {
   "cell_type": "markdown",
   "metadata": {},
   "source": [
    "test"
   ]
  }
 ],
 "metadata": {
  "kernelspec": {
   "display_name": "Julia 1.8.5",
   "language": "julia",
   "name": "julia-1.8"
  },
  "language_info": {
   "file_extension": ".jl",
   "mimetype": "application/julia",
   "name": "julia",
   "version": "1.8.5"
  },
  "orig_nbformat": 4
 },
 "nbformat": 4,
 "nbformat_minor": 2
}
