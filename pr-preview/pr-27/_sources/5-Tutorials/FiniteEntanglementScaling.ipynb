{
 "cells": [
  {
   "cell_type": "markdown",
   "id": "683da78e",
   "metadata": {},
   "source": [
    "# Finite Entanglement Scaling\n",
    "\n",
    "Tutorial on finite entanglement scaling with uniform MPS, using [MPSKit.jl](https://github.com/maartenvd/MPSKit.jl).\n",
    "\n",
    "*Coming soon*."
   ]
  }
 ],
 "metadata": {
  "jupytext": {
   "formats": "md:myst",
   "text_representation": {
    "extension": ".md",
    "format_name": "myst"
   }
  },
  "kernelspec": {
   "display_name": "Julia",
   "language": "julia",
   "name": "julia-1.9"
  },
  "source_map": [
   11
  ]
 },
 "nbformat": 4,
 "nbformat_minor": 5
}