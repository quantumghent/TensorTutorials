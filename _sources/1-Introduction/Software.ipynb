{
 "cells": [
  {
   "cell_type": "markdown",
   "id": "18c08009",
   "metadata": {},
   "source": [
    "# Getting Started with Numerics\n",
    "\n",
    "On this page, there are some links with relevant information for getting started with\n",
    "numerical computing. We point to some references for the Julia programming language, as well\n",
    "as some resources for learning about version control software.\n",
    "\n",
    "## Version Control\n",
    "\n",
    "Version control software is a tool used in software development (and sometimes in other\n",
    "fields) to manage and track changes made to a project's source code, documents, or any other\n",
    "set of files. It allows multiple contributors to work collaboratively on a project, keeping\n",
    "a history of changes, and facilitating the organization and synchronization of different\n",
    "versions of the project. The most popular version control system is\n",
    "[git](https://git-scm.com/), which is a free tool developed by Linus Torvalds in 2005, and\n",
    "has become the de facto standard in the software development industry.\n",
    "\n",
    "Again, multiple resources are available for learning about git. From the official website,\n",
    "the book [Pro Git](https://git-scm.com/book/en/v2) is a good place to start. For a more\n",
    "dynamic approach, you can learn git through\n",
    "[this interactive tutorial](https://learngitbranching.js.org/).\n",
    "\n",
    "## Julia\n",
    "\n",
    "In order to get started with Julia, there are many resources already available. The\n",
    "[official documentation](https://docs.julialang.org/en/v1/) is a good place to start, and a\n",
    "full _getting started_ exposition can be found for example\n",
    "[here](https://julia.quantecon.org/intro.html). There is also a\n",
    "[learning page](https://julialang.org/learning/) that has tutorials on different topics, a\n",
    "list of books, and much more.\n",
    "\n",
    "Additionally, there is an active [forum](https://discourse.julialang.org/) for asking\n",
    "questions, as well as a [slack channel](https://julialang.org/slack/) and a stack overflow\n",
    "page.\n",
    "\n",
    "## Julia Packages\n",
    "\n",
    "Julia has a very active open-source community, and many packages are available for different\n",
    "purposes. These typically have their own documentation, and are hosted on GitHub. An\n",
    "(incomplete) list of packages that are relevant for this course are given below:\n",
    "\n",
    "- [TensorKit.jl](https://github.com/Jutho/TensorKit.jl)\n",
    "- [TensorOperations.jl](https://github.com/Jutho/TensorOperations.jl)\n",
    "- [KrylovKit.jl](https://github.com/Jutho/KrylovKit.jl)\n",
    "- [OptimKit.jl](https://github.com/Jutho/OptimKit.jl)\n",
    "- [MPSKit.jl](https://github.com/maartenvd/MPSKit.jl)\n",
    "- [PEPSKit.jl](https://github.com/quantumghent/PEPSKit.jl)\n",
    "\n",
    "Also check out the [GitHub page for our organization](https://github.com/quantumghent),\n",
    "which hosts and/or links many of the relevant software repositories.\n",
    "\n",
    "## Noteworthy Tensor Network Software\n",
    "\n",
    "There are many additional software libraries available for tensor network computations, or\n",
    "more generally for quantum physics research. Below you can find an incomplete list of some\n",
    "of these.\n",
    "\n",
    "- [ITensor](https://itensor.org/) Julia/C++ library for tensor network calculations\n",
    "- [TenPy](https://tenpy.readthedocs.io/en/latest/) Python library for tensor network calculations\n",
    "- [QUIMB](https://quimb.readthedocs.io/en/latest/) Python library for quantum information many-body calculations"
   ]
  }
 ],
 "metadata": {
  "jupytext": {
   "formats": "md:myst",
   "text_representation": {
    "extension": ".md",
    "format_name": "myst"
   }
  },
  "kernelspec": {
   "display_name": "Julia",
   "language": "julia",
   "name": "julia-1.9"
  },
  "source_map": [
   11
  ]
 },
 "nbformat": 4,
 "nbformat_minor": 5
}