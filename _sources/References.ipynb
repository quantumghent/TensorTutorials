{
 "cells": [
  {
   "cell_type": "markdown",
   "id": "9503da1b",
   "metadata": {},
   "source": [
    "(references)=\n",
    "# References\n",
    "\n",
    "```{bibliography}\n",
    ":style: alpha\n",
    "```"
   ]
  }
 ],
 "metadata": {
  "jupytext": {
   "text_representation": {
    "extension": ".md",
    "format_name": "myst"
   }
  },
  "kernelspec": {
   "display_name": "Julia",
   "language": "julia",
   "name": "julia-1.9"
  },
  "source_map": [
   10
  ]
 },
 "nbformat": 4,
 "nbformat_minor": 5
}