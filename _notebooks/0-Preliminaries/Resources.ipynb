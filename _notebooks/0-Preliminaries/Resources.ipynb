{
 "cells": [
  {
   "cell_type": "markdown",
   "id": "74a8e804",
   "metadata": {},
   "source": [
    "# Useful Resources\n",
    "\n",
    "Other useful resources for learning about tensor networks include (but are certainly not limited to):\n",
    "\n",
    "- [tensornetwork.org](http://tensornetwork.org/)  \n",
    "- [tensors.net](https://www.tensors.net/)  "
   ]
  }
 ],
 "metadata": {
  "date": 1706868302.9856462,
  "filename": "Resources.md",
  "kernelspec": {
   "display_name": "Julia",
   "language": "julia",
   "name": "julia-1.9"
  },
  "title": "Useful Resources"
 },
 "nbformat": 4,
 "nbformat_minor": 5
}