{
 "cells": [
  {
   "cell_type": "markdown",
   "id": "b8103a14",
   "metadata": {},
   "source": [
    "# Useful Resources\n",
    "\n",
    "Other useful resources for learning about tensor networks include (but are certainly not limited to):\n",
    "\n",
    "- [tensornetwork.org](http://tensornetwork.org/)  \n",
    "- [tensors.net](https://www.tensors.net/)  "
   ]
  }
 ],
 "metadata": {
  "date": 1716673955.5326211,
  "filename": "Resources.md",
  "kernelspec": {
   "display_name": "Julia",
   "language": "julia",
   "name": "julia-1.9"
  },
  "title": "Useful Resources"
 },
 "nbformat": 4,
 "nbformat_minor": 5
}