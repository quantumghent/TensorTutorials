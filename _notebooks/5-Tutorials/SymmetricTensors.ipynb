{
 "cells": [
  {
   "cell_type": "markdown",
   "id": "214f2958",
   "metadata": {},
   "source": [
    "# A Symmetric Tensor Deep Dive: Constructing Your First Tensor Map\n",
    "\n",
    "In this tutorial, we will demonstrate how to construct specific `TensorMap`s which are\n",
    "relevant to some common physical systems, with an increasing degree of complexity. We will\n",
    "assume the reader has gone through the tutorial sections on\n",
    "[tensor network theory](https://quantumghent.github.io/TensorTutorials/../2-TensorNetworks/TensorNetworks.html#tensor-networks) and\n",
    "[symmetries in tensor networks](https://quantumghent.github.io/TensorTutorials/../2-TensorNetworks/Symmetries.html#symmetric-tensors). In going through these examples we aim\n",
    "to provide a relatively gently introduction to the meaning of\n",
    "[symmetry sectors](https://jutho.github.io/TensorKit.jl/latest/man/sectors/#ss_sectors) and\n",
    "[vector spaces](https://jutho.github.io/TensorKit.jl/latest/man/sectors/#ss_rep) within the\n",
    "context of [TensorKit.jl](https://jutho.github.io/TensorKit.jl/latest/),\n",
    "[how to initialize a `TensorMap` over a given vector space](https://jutho.github.io/TensorKit.jl/latest/man/tensors/#ss_tensor_construction)\n",
    "and finally how to manually set the data of a symmetric `TensorMap`. We will keep our\n",
    "discussion as intuitive and simple as possible, only adding as many technical details as\n",
    "strictly necessary to understand each example. When considering a different physical system\n",
    "of interest, you should then be able to adatpt these recipes and the intuition behind them\n",
    "to your specific problem at hand.\n",
    "\n",
    ">**Note**\n",
    ">\n",
    ">Many of these examples are already implemented in the\n",
    "[MPSKitModels.jl package](https://github.com/maartenvd/MPSKitModels.jl), in which case we\n",
    "basically provide a narrated walk-through of the corresponding code."
   ]
  },
  {
   "cell_type": "code",
   "execution_count": null,
   "id": "c86f0a39",
   "metadata": {
    "hide-output": false
   },
   "outputs": [],
   "source": [
    "using LinearAlgebra\n",
    "using TensorKit\n",
    "using MPSKitModels\n",
    "using WignerSymbols\n",
    "using SUNRepresentations\n",
    "using Test # for showcase testing"
   ]
  },
  {
   "cell_type": "markdown",
   "id": "d2fbdab6",
   "metadata": {},
   "source": [
    "## Level 0: The 1-Dimensional Ising Model\n",
    "\n",
    "As the most basic example, we will consider the\n",
    "[1-dimensional transverse-field Ising model](https://en.wikipedia.org/wiki/Transverse-field_Ising_model),\n",
    "whose Hamiltonian is given by\n",
    "\n",
    "\n",
    "<a id='equation-eq-isingham'></a>\n",
    "$$\n",
    "H = -J \\left (\\sum_{\\langle i, j \\rangle} Z_i Z_j + g \\sum_{i} X_i\\right). \\tag{18.1}\n",
    "$$\n",
    "\n",
    "Here, $ X_i $ and $ Z_i $ are the\n",
    "[Pauli operators](https://en.wikipedia.org/wiki/Pauli_matrices) acting on site $ i $, and the\n",
    "first sum runs over pairs of nearest neighbors $ \\langle i, j \\rangle $. This model has a\n",
    "global $ \\mathbb{Z}_2 $ symmetry, as it is invariant under the transformation $ U H U^\\dagger =\n",
    "H $ where the symmetry transformation $ U $ is given by a global spin flip,\n",
    "\n",
    "\n",
    "<a id='equation-eq-z2gen'></a>\n",
    "$$\n",
    "U = \\prod_i X_i. \\tag{18.2}\n",
    "$$\n",
    "\n",
    "We will circle back to the implications of this symmetry later.\n",
    "\n",
    "As a warmup we will implement the Hamiltonian [(18.1)](#equation-eq-isingham) in the standard way by\n",
    "encoding the matrix elements of the single-site operators $ X $ and $ Z $ into an array of\n",
    "complex numbers, and then combine them in a suitable way to get the Hamiltonian terms.\n",
    "Instead of using plain Julia arrays, we will use a representation in terms of `TensorMap`s\n",
    "over complex vector spaces. These will essentially just be wrappers around base arrays at\n",
    "this point, but their construction requires some consideration of the notion of *spaces*,\n",
    "which generalize the notion of `size` for arrays. Each of the operators $ X $ and $ Z $ acts on\n",
    "a local 2-dimensional complex vector space. In the context of TensorKit.jl such a space can\n",
    "be represented as `ComplexSpace(2)`, or using the convenient shorthand `ℂ^2`. A single-site\n",
    "Pauli operator maps from a domain physical space to a codomain physical space, and can\n",
    "therefore be represented as instances of a `TensorMap(..., ℂ^2 ← ℂ^2)`. The corresponding\n",
    "data can then be filled in by hand according to the familiar Pauli matrices in the following\n",
    "way:"
   ]
  },
  {
   "cell_type": "code",
   "execution_count": null,
   "id": "05a56b21",
   "metadata": {
    "hide-output": false
   },
   "outputs": [],
   "source": [
    "# initialize numerical data for Pauli matrices\n",
    "x_mat = ComplexF64[0 1; 1 0]\n",
    "z_mat = ComplexF64[1 0; 0 -1]\n",
    "\n",
    "# construct physical Hilbert space\n",
    "V = ℂ^2\n",
    "\n",
    "# construct the physical operators as TensorMaps\n",
    "X = TensorMap(x_mat, V ← V)\n",
    "Z = TensorMap(z_mat, V ← V)\n",
    "\n",
    "# combine single-site operators into two-site operator\n",
    "ZZ = Z ⊗ Z"
   ]
  },
  {
   "cell_type": "markdown",
   "id": "360499e7",
   "metadata": {},
   "source": [
    "We can easily verify that our operators have the desired form by checking their data in the\n",
    "computational basis:"
   ]
  },
  {
   "cell_type": "code",
   "execution_count": null,
   "id": "fcd92c9d",
   "metadata": {
    "hide-output": false
   },
   "outputs": [],
   "source": [
    "ZZ"
   ]
  },
  {
   "cell_type": "code",
   "execution_count": null,
   "id": "3177620e",
   "metadata": {
    "hide-output": false
   },
   "outputs": [],
   "source": [
    "X"
   ]
  },
  {
   "cell_type": "markdown",
   "id": "acf419ec",
   "metadata": {},
   "source": [
    ">**Note**\n",
    ">\n",
    ">In order to combine these local operators into a concrete Hamiltonian that can be used in\n",
    "[MPSKit.jl](https://github.com/maartenvd/MPSKit.jl) we can make use of the convenient\n",
    "`@mpoham` macro exported by\n",
    "[MPSKitModels.jl](https://github.com/maartenvd/MPSKitModels.jl). For an infinite translation\n",
    "invariant Ising chain, we can use the following piece of code which produces the Hamiltonian\n",
    "in an interesting-looking form (see MPSKit.jl for details on this format)."
   ]
  },
  {
   "cell_type": "code",
   "execution_count": null,
   "id": "0b94cc9f",
   "metadata": {
    "hide-output": false
   },
   "outputs": [],
   "source": [
    "lattice = InfiniteChain(1)\n",
    "H = @mpoham begin\n",
    "    sum(nearest_neighbours(lattice)) do (i, j)\n",
    "        return ZZ{i,j}\n",
    "    end + sum(vertices(lattice)) do i\n",
    "        return X{i}\n",
    "    end\n",
    "end"
   ]
  },
  {
   "cell_type": "markdown",
   "id": "08c92893",
   "metadata": {},
   "source": [
    "## Level 1: The $ \\mathbb{Z}_2 $-symmetric Ising Model"
   ]
  },
  {
   "cell_type": "markdown",
   "id": "b2fa7b60",
   "metadata": {},
   "source": [
    "### The irrep basis and block sparsity\n",
    "\n",
    "Let us now return to the global $ \\mathbb{Z}_2 $ invariance of the Hamiltonian\n",
    "[(18.1)](#equation-eq-isingham), and consider what this implies for its local terms $ ZZ $ and $ X $.\n",
    "Representing these operators as `TensorMap`s, the invariance of $ H $ under a global\n",
    "$ \\mathbb{Z}_2 $ transformation implies the following identities for the local tensors:\n",
    "\n",
    "![https://quantumghent.github.io/TensorTutorials/_static/SymmetricTensors/ZZX_symm.svg](https://quantumghent.github.io/TensorTutorials/_static/SymmetricTensors/ZZX_symm.svg)\n",
    "\n",
    "  \n",
    "Recalling the [discussion on symmetries in tensor networks](https://quantumghent.github.io/TensorTutorials/../2-TensorNetworks/Symmetries.html#symmetric-tensors), we recognize\n",
    "that these identitities precisely mean that these local tensors transform trivially under a\n",
    "tensor product representation of $ \\mathbb{Z}_2 $. This implies that, in an appropriate basis\n",
    "for the local physical vector space, our local tensors would become block-diagonal where\n",
    "each so-called *matrix block* is labeled by a $ \\mathbb{Z}_2 $ irrep. From the same\n",
    "discussion, we recall that the appropriate local basis transformation is precisely the one\n",
    "that brings the local representation $ X $ into block-diagonal form. Clearly, this\n",
    "transformation is nothing more than the Hadamard transformation which maps the computational\n",
    "basis of $ Z $ eigenstates $ \\{\\ket{\\uparrow}, \\ket{\\downarrow}\\} $ to that of the $ X $\n",
    "eigenstates $ \\{\\ket{+}, \\ket{-}\\} $ defined as $ \\ket{+} = \\frac{\\ket{\\uparrow} +\n",
    "\\ket{\\downarrow}}{\\sqrt{2}} $ and $ \\ket{-} = \\frac{\\ket{\\uparrow} -\n",
    "\\ket{\\downarrow}}{\\sqrt{2}} $. In the current context, this basis is referred to as the\n",
    "*irrep basis* of $ \\mathbb{Z}_2 $, since each basis state corresponds to a one-dimensional\n",
    "irreducible representation of $ \\mathbb{Z}_2 $. Indeed, the local symmetry transformation $ X $\n",
    "acts trivially on the state $ \\ket{+} $, corresponding to the *trivial irrep*, and yields a\n",
    "minus sign when acting on $ \\ket{-} $, corresponding to the *sign irrep*.\n",
    "\n",
    "Next, let’s make the statement that ‘the matrix blocks of the local tensors are labeled by\n",
    "$ \\mathbb{Z}_2 $ irreps’ more concrete. To this end, consider the action of $ ZZ $ in the irrep\n",
    "basis, which is given by the four nonzero matrix elements\n",
    "\n",
    "$$\n",
    "\\begin{align}\n",
    "ZZ : \\mathbb C^2 \\otimes \\mathbb C^2 &\\to \\mathbb C^2 \\otimes \\mathbb C^2 : \\\\\n",
    "\\ket{+} \\otimes \\ket{+} &\\mapsto \\ket{-} \\otimes \\ket{-},  \\\\\n",
    "\\ket{+} \\otimes \\ket{-} &\\mapsto \\ket{-} \\otimes \\ket{+},  \\\\\n",
    "\\ket{-} \\otimes \\ket{+} &\\mapsto \\ket{+} \\otimes \\ket{-},  \\\\\n",
    "\\ket{-} \\otimes \\ket{-} &\\mapsto \\ket{+} \\otimes \\ket{+}.\n",
    "\\end{align}\n",
    "$$\n",
    "\n",
    "We will denote the trivial $ \\mathbb{Z}_2 $ irrep by $ '0' $, corresponding to a local $ \\ket{+} $\n",
    "state, and the sign irrep by $ '1' $, corresponding to a local $ \\ket{-} $ state. Given this\n",
    "identification, we can naturally associate the tensor product of basis vectors in the irrep\n",
    "basis to the tensor product of the corresponding $ \\mathbb{Z}_2 $ irreps. One of the key\n",
    "questions of the [representation theory of groups](https://quantumghent.github.io/TensorTutorials/../2-TensorNetworks/Symmetries.html#representation-theory) is how the tensor\n",
    "product of two irreps can be decomposed into a direct sum of irreps. This decomposition is\n",
    "encoded in what are often called the\n",
    "[*fusion rules*](https://en.wikipedia.org/wiki/Fusion_rules),\n",
    "\n",
    "$$\n",
    "a \\otimes b \\cong \\bigoplus_c N_c^{ab} c,\n",
    "$$\n",
    "\n",
    "where $ N_{ab}^c $ encodes the number of times the irrep $ c $ occurs in the tensor product of\n",
    "irreps $ a $ and $ b $. These fusion rules are called *Abelian* if the tensor product of any two\n",
    "irreps corresponds to exactly one irrep. We will return to the implications of *non-Abelian*\n",
    "fusion rules [later](#non-abelian). For the case of the $ \\mathbb{Z}_2 $ irreps, the fusion\n",
    "rules are Abelian, and are given by addition modulo 2,\n",
    "\n",
    "$$\n",
    "0 \\otimes 0 \\cong 0, \\quad 0 \\otimes 1 \\cong 1, \\quad 1 \\otimes 0 \\cong 1, \\quad 1 \\otimes 1 \\cong 0.\n",
    "$$\n",
    "\n",
    "To see how these fusion rules arise, we can consider the action of the symmetry\n",
    "transformation $ XX $ on the possible two-site basis states, each of which corresponds to a\n",
    "tensor product of representations. We can see that $ XX $ acts trivially on both $ \\ket{+}\n",
    "\\otimes \\ket{+} $ and $ \\ket{-} \\otimes \\ket{-} $ meaning these transform under the trivial\n",
    "representation, which gives the first and last entries of the fusion rules. Similarly, $ XX $\n",
    "acts with a minus sign on both $ \\ket{+} \\otimes \\ket{-} $ and $ \\ket{-} \\otimes \\ket{+} $,\n",
    "meaning these transform under the sign representation, which gives the second and third\n",
    "entries of the fusion rules. Having introduced this notion of ‘fusing’ irreps, we can now\n",
    "associate associate a well-defined *coupled irrep* to each of the four two-site basis\n",
    "states, which is given by the tensor product of the two *uncoupled irreps* associated to\n",
    "each individual site. From the matrix elements of $ ZZ $ given above, we clearly see that this\n",
    "operator only maps between states in the domain and codomain that have the same coupled\n",
    "irrep. This means that we can associate each of these matrix elements to a so-called *fusion\n",
    "tree* of $ \\mathbb{Z}_2 $ irreps with a corresponding coefficient of 1,\n",
    "\n",
    "![https://quantumghent.github.io/TensorTutorials/_static/SymmetricTensors/Z2_fusiontrees.svg](https://quantumghent.github.io/TensorTutorials/_static/SymmetricTensors/Z2_fusiontrees.svg)\n",
    "\n",
    "  \n",
    "This diagram should be read from top to bottom, where it represents the fusion of the two\n",
    "uncoupled irreps in the domain to the coupled irrep on the middle line, and the splitting of\n",
    "this coupled irrep to the uncoupled irreps in the codomain. From this our previous statement\n",
    "becomes very clear: the $ ZZ $ operator indeed consists of two distinct two-dimensional\n",
    "matrix blocks, each of which are labeled by the value of the *coupled irrep* on the middle\n",
    "line of each fusion tree. The first block corresponds to the even coupled irrep ‘0’, and\n",
    "acts within the two-dimensional subspace spanned by $ \\{\\ket{+,+}, \\ket{-,-}\\} $, while the\n",
    "second block corresponds to the odd coupled irrep ‘1’, and acts within the two-dimensional\n",
    "subspace spanned by $ \\{\\ket{+,-}, \\ket{-,+}\\} $. In TensorKit.jl, this block-diagonal\n",
    "structure of a symmetric tensor is explicitly encoded into its representation as a\n",
    "`TensorMap`, where only the matrix blocks corresponding to each coupled irrep are stored.\n",
    "\n",
    "For our current purposes however, we never really need to explicitly consider these matrix\n",
    "blocks. Indeed, when constructing a `TensorMap` it is sufficient to set its data by manually\n",
    "assigning a matrix element to each [fusion tree of the form above](#z2-fusiontrees) labeled\n",
    "by a given tensor product of irreps. This matrix element is then automatically inserted into\n",
    "the appropriate matrix block. So, for the purpose of this tutorial **we will interpret a\n",
    "symmetric `TensorMap` simply as a list of fusion trees, to each of which corresponds a\n",
    "certain reduced matrix element**.\n",
    "\n",
    ">**Note**\n",
    ">\n",
    ">In general, such a reduced matrix element is not necessarily a scalar, but rather an array\n",
    "whose size is determined by the degeneracy of the irreps in the codomain and domain of the\n",
    "fusion tree. For this reason, a reduced matrix element associated to a given fusion tree is\n",
    "also referred to as an *array block*. In the following we will use terms ‘reduced matrix\n",
    "element’, ‘array block’ or just ‘block’ interchangeably. However, it should be remembered\n",
    "that these are distinct from the matrix blocks in the block-diagonal decomposition of the\n",
    "tensor.\n",
    "\n",
    "\n",
    "<a id='fusion-trees'></a>"
   ]
  },
  {
   "cell_type": "markdown",
   "id": "80390020",
   "metadata": {},
   "source": [
    "### Fusion trees and how to use them\n",
    "\n",
    "This view of the underlying symmetry structure in terms of fusion trees and corresponding\n",
    "array blocks is a very convenient way of working with the `TensorMap` type. Consider a\n",
    "generic fusion tree of the form\n",
    "\n",
    "![https://quantumghent.github.io/TensorTutorials/_static/SymmetricTensors/fusiontree.svg](https://quantumghent.github.io/TensorTutorials/_static/SymmetricTensors/fusiontree.svg)\n",
    "\n",
    "  \n",
    "which can be used to label a block of a `TensorMap` corresponding to a two-site operator.\n",
    "This object should actually be seen as a *pair of fusion trees*. The first member of the\n",
    "pair, related to the codomain of the `TensorMap`, is referred to as the *splitting tree* and\n",
    "encodes how the *coupled charge* $ c $ splits into the *uncoupled charges* $ s_1 $ and $ s_2 $.\n",
    "The second member of the pair, related to the domain of the `TensorMap`, is referred to as\n",
    "the *fusion tree* and encodes how the uncoupled charges $ f_1 $ and $ f_2 $ fuse to the coupled\n",
    "charge $ c $. Both the splitting and fusion tree can be represented as a\n",
    "[`TensorKit.FusionTree`](https://jutho.github.io/TensorKit.jl/latest/lib/sectors/#TensorKit.FusionTree)\n",
    "instance. You will find such a `FusionTree` has the following properties encoded into its\n",
    "fields:\n",
    "\n",
    "- `uncoupled::NTuple{N,I}`: a list of `N` uncoupled charges of type `I<:Sector`  \n",
    "- `coupled::I`: a single coupled charge of type `I<:Sector`  \n",
    "- `isdual::NTuple{N,Bool}`: a list of booleans indicating whether the corresponding uncoupled charge is dual  \n",
    "- `innerlines::NTuple{M,I}`: a list of inner lines of type `I<:Sector` of length `M = N - 2`  \n",
    "- `vertices::NTuple{L,T}`: list of fusion vertex labels of type `T` and length `L = N - 1`  \n",
    "\n",
    "\n",
    "For our current application only `uncoupled` and `coupled` are relevant, since\n",
    "$ \\mathbb{Z}_2 $ irreps are self-dual and have Abelian fusion rules. We will come back to\n",
    "these other properties when discussion more involved applications. Given some `TensorMap`,\n",
    "the method `TensorKit.fusiontrees(t::TensorMap)` returns an iterator over all pairs of\n",
    "splitting and fusion trees that label the blocks of `t`.\n",
    "\n",
    "We can now put this into practice by directly constructing the $ ZZ $ operator in the irrep\n",
    "basis as a $ \\mathbb{Z}_2 $-symmetric `TensorMap`. We will do this in three steps:\n",
    "\n",
    "- First we construct the physical space at each site as a $ \\mathbb{Z}_2 $-graded vector space.  \n",
    "- Then we initialize an empty `TensorMap` with the correct domain and codomain vector spaces built from the previously constructed physical space.  \n",
    "- And finally we iterate over all splitting and fusion tree pairs and manually fill in the corresponding nonzero blocks of the operator.  \n",
    "\n",
    "\n",
    "After the basis transform to the irrep basis, we can view the two-dimensional complex\n",
    "physical vector space we started with as being spanned by the trivial and sign irrep of\n",
    "$ \\mathbb{Z}_2 $. In the language of TensorKit.jl, this can be implemented as a `Z2Space`, an\n",
    "alias for a\n",
    "$ \\mathbb{Z}_2 $-[graded vector space](https://jutho.github.io/TensorKit.jl/latest/lib/spaces/#TensorKit.GradedSpace)\n",
    "`Vect[Z2Irrep]`, which contains the trivial irrep `Z2Irrep(0)` with degeneracy 1 and the\n",
    "sign irrep `Z2Irrep(1)` with degeneracy 1. We can define this space in the following way and\n",
    "check its dimension:"
   ]
  },
  {
   "cell_type": "code",
   "execution_count": null,
   "id": "17082e43",
   "metadata": {
    "hide-output": false
   },
   "outputs": [],
   "source": [
    "V = Z2Space(0 => 1, 1 => 1)\n",
    "dim(V)"
   ]
  },
  {
   "cell_type": "markdown",
   "id": "f2f5b3ad",
   "metadata": {},
   "source": [
    "Given this physical space, we can initialize the $ ZZ $ operator as an empty `TensorMap` with\n",
    "the appropriate structure."
   ]
  },
  {
   "cell_type": "code",
   "execution_count": null,
   "id": "6c4816a8",
   "metadata": {
    "hide-output": false
   },
   "outputs": [],
   "source": [
    "ZZ = TensorMap(zeros, ComplexF64, V ⊗ V ← V ⊗ V)"
   ]
  },
  {
   "cell_type": "markdown",
   "id": "64f270dd",
   "metadata": {},
   "source": [
    "The output of this command again demonstrates the underlying structure of a symmetric\n",
    "tensor. We see that all eight valid fusion trees with two incoming irreps and two outgoing\n",
    "irreps [of the type above](#fusiontree) are listed with their corresponding block data. Each\n",
    "of these blocks is an array of shape $ (1, 1, 1, 1) $ since each irrep occuring in the space\n",
    "$ V $ has degeneracy 1. Using the `fusiontrees` method and the fact that we can index a\n",
    "`TensorMap` using a splitting/fusion tree pair, we can now fill in the nonzero blocks of the\n",
    "operator by observing that the $ ZZ $ operator flips the irreps of the uncoupled charges in\n",
    "the domain with respect to the codomain, as shown in the diagrams above. Flipping a given\n",
    "`Z2Irrep` in the codomain can be implemented by fusing them with the sign irrep\n",
    "`Z2Irrep(1)`, giving:"
   ]
  },
  {
   "cell_type": "code",
   "execution_count": null,
   "id": "662eb406",
   "metadata": {
    "hide-output": false
   },
   "outputs": [],
   "source": [
    "flip_charge(charge::Z2Irrep) = only(charge ⊗ Z2Irrep(1))\n",
    "for (s, f) in fusiontrees(ZZ)\n",
    "    if s.uncoupled == map(flip_charge, f.uncoupled)\n",
    "        ZZ[s, f] .= 1\n",
    "    end\n",
    "end\n",
    "ZZ"
   ]
  },
  {
   "cell_type": "markdown",
   "id": "7f5b421c",
   "metadata": {},
   "source": [
    "Indeed, the resulting `TensorMap` exactly encodes the matrix elements of the $ ZZ $ operator\n",
    "shown in [the diagrams above](#z2-fusiontrees). The $ X $ operator can be constructed in\n",
    "a similar way. Since it is by definition diagonal in the irrep basis with blocks directly\n",
    "corresponding to the trivial and sign irrep, its construction is particularly simple:"
   ]
  },
  {
   "cell_type": "code",
   "execution_count": null,
   "id": "9acabaf5",
   "metadata": {
    "hide-output": false
   },
   "outputs": [],
   "source": [
    "X = TensorMap(zeros, ComplexF64, V ← V)\n",
    "for (s, f) in fusiontrees(X)\n",
    "    if only(f.uncoupled) == Z2Irrep(0)\n",
    "        X[s, f] .= 1\n",
    "    else\n",
    "        X[s, f] .= -1\n",
    "    end\n",
    "end\n",
    "X"
   ]
  },
  {
   "cell_type": "markdown",
   "id": "70e0c0c3",
   "metadata": {},
   "source": [
    "Given these local operators, we can use them to construct the full manifestly\n",
    "$ \\mathbb{Z}_2 $-symmetric Hamiltonian.\n",
    "\n",
    ">**Note**\n",
    ">\n",
    ">An important observation is that when explicitly imposing the $ \\mathbb{Z}_2 $ symmetry we\n",
    "directly constructed the full $ ZZ $ operator as a single symmetric tensor. This in contrast\n",
    "to the case without symmetries, where we constructed a single-site $ Z $ operator and then\n",
    "combined them into a two-site operator. Clearly this can no longer be done when imposing\n",
    "$ \\mathbb{Z}_2 $, since a single $ Z $ is not invariant under conjugation with the symmetry\n",
    "operator $ X $. One might wonder whether it is still possible to construct a two-site\n",
    "Hamiltonian term by combining local objects. This is possible if one introduces an auxiliary\n",
    "index on the local tensors that carries a non-trivial charge. The intuition behind this will\n",
    "become more clear in the next example."
   ]
  },
  {
   "cell_type": "markdown",
   "id": "63478c49",
   "metadata": {},
   "source": [
    "## Level 2: The $ \\mathrm{U}(1) $ Bose-Hubbard Model\n",
    "\n",
    "For our next example we will consider the\n",
    "[Bose-Hubbard model](https://en.wikipedia.org/wiki/Bose%E2%80%93Hubbard_model), which\n",
    "describes interacting bosons on a lattice. The Hamiltonian of this model is given by\n",
    "\n",
    "\n",
    "<a id='equation-eq-bhh'></a>\n",
    "$$\n",
    "H = -t \\sum_{\\langle i,j \\rangle} \\left( a_{i}^+ a_{j}^- + a_{i}^- a_{j}^+ \\right) - \\mu \\sum_i N_i + \\frac{U}{2} \\sum_i N_i(N_i - 1). \\tag{18.3}\n",
    "$$\n",
    "\n",
    "This Hamiltonian is defined on the [Fock space](https://quantumghent.github.io/TensorTutorials/../1-Introduction/FockSpace.html#fock-space) associated to a chain of bosons,\n",
    "where the action bosonic creation, annihilation and number operators $ a^+ $, $ a^- $ and $ N =\n",
    "a^+ a^- $ in the local occupation number basis is given by\n",
    "\n",
    "\n",
    "<a id='equation-eq-bosonopmatel'></a>\n",
    "$$\n",
    "\\begin{align}\n",
    "a^+ \\ket{n} &= \\sqrt{n + 1} \\ket{n + 1} \\\\\n",
    "a^- \\ket{n} &= \\sqrt{n} \\ket{n - 1} \\\\\n",
    "N \\ket{n} &= n \\ket{n}\n",
    "\\end{align} \\tag{18.4}\n",
    "$$\n",
    "\n",
    "Their bosonic nature can be summarized by the familiar the commutation relations\n",
    "\n",
    "$$\n",
    "\\begin{align*}\n",
    "\\left[a_i^-, a_j^-\\right] &= \\left[a_i^+, a_j^+\\right] = 0 \\\\\n",
    "\\left[a_i^-, a_j^+\\right] &= \\delta_{ij} \\\\\n",
    "\\left[N, a^+\\right] &= a^+ \\\\\n",
    "\\left[N, a^-\\right] &= -a^- \\\\\n",
    "\\end{align*}\n",
    "$$\n",
    "\n",
    "This Hamiltonian is invariant under conjugation by the global particle number operator, $ U H\n",
    "U^\\dagger = H $, where\n",
    "\n",
    "$$\n",
    "U = \\sum_i N_i\n",
    "$$\n",
    "\n",
    "This invariance corresponds to a $ \\mathrm{U}(1) $ particle number symmetry, which can again\n",
    "be manifestly imposed when constructing the Hamiltonian terms as `TensorMap`s. From the\n",
    "representation theory of $ \\mathrm{U}(1) $ we know that it’s irreps are all one-dimensional\n",
    "and can be labeled by integers $ n $ where the tensor product of two irreps is corresponds to\n",
    "addition of these labels, giving the Abelian fusion rules\n",
    "\n",
    "$$\n",
    "n_1 \\otimes n_2 \\cong (n_1 + n_2).\n",
    "$$"
   ]
  },
  {
   "cell_type": "markdown",
   "id": "e4c2318f",
   "metadata": {},
   "source": [
    "### Directly Constructing the Hamiltonian Terms\n",
    "\n",
    "We recall from our discussion on the $ \\mathbb{Z}_2 $ symmetric Ising model that, in order to\n",
    "construct the Hamiltonian terms as symmetric tensors, we should work in the irrep basis\n",
    "where the symmetry transformation is block diagonal. In the current case, the symmetry\n",
    "operation is the particle number operator, which is already diagonal in the occupation\n",
    "number basis. Therefore, we don’t need an additional local basis transformation this time,\n",
    "and can just observe that each local basis state can be identified with the $ \\mathrm{U}(1) $\n",
    "irrep associated to the corresponding occupation number.\n",
    "\n",
    "Following the same approach as before, we first write down the action of the Hamiltonian\n",
    "terms in the irrep basis:\n",
    "\n",
    "$$\n",
    "\\begin{align*}\n",
    "a_i^+ a_j^- \\ket{n_i, n_j} &= \\sqrt{(n_i + 1)n_j} \\ket{n_i + 1, n_j - 1} \\\\\n",
    "a_i^- a_j^+ \\ket{n_i, n_j} &= \\sqrt{n_i(n_j + 1)} \\ket{n_i - 1, n_j + 1} \\\\\n",
    "N \\ket{n} &= n \\ket{n}\n",
    "\\end{align*}\n",
    "$$\n",
    "\n",
    "It is then a simple observation that these matrix elements are exactly captured by the\n",
    "following $ \\mathrm{U}(1) $ fusion trees with corresponding block values:\n",
    "\n",
    "![https://quantumghent.github.io/TensorTutorials/_static/SymmetricTensors/U1_fusiontrees.svg](https://quantumghent.github.io/TensorTutorials/_static/SymmetricTensors/U1_fusiontrees.svg)\n",
    "\n",
    "  \n",
    "This gives us all the information necessary to construct the corresponding `TensorMap`s. We\n",
    "follow the same steps as outlined in the previous example, starting with the construction of\n",
    "the physical space. This will now be a $ \\mathrm{U}(1) $ graded vector space `U1Space`, where\n",
    "each basis state $ \\ket{n} $ in the occupation number basis is represented by the\n",
    "corresponding $ \\mathrm{U}(1) $ irrep `U1Irrep(n)` with degeneracy 1. While this physical\n",
    "space is in principle infinite dimensional, we will impose a cutoff in occupation number at\n",
    "a maximum of 5 bosons per site, giving a 6-dimensional vector space:"
   ]
  },
  {
   "cell_type": "code",
   "execution_count": null,
   "id": "f29fc441",
   "metadata": {
    "hide-output": false
   },
   "outputs": [],
   "source": [
    "cutoff = 5\n",
    "V = U1Space(n => 1 for n in 0:cutoff)"
   ]
  },
  {
   "cell_type": "markdown",
   "id": "b874e562",
   "metadata": {},
   "source": [
    "We can now initialize the $ a^+ a^- $, $ a^- a^+ $ and $ N $ operators as empty `TensorMap`s with\n",
    "the correct domain and codomain vector spaces, and fill in the nonzero blocks associated to\n",
    "[the fusion trees shown above](#u1-fusiontrees). To do this we need access to the integer\n",
    "label of the $ \\mathrm{U}(1) $ irreps in the fusion and splitting trees, which can be accessed\n",
    "through the `charge` field of the `U1Irrep` type."
   ]
  },
  {
   "cell_type": "code",
   "execution_count": null,
   "id": "1bf6b928",
   "metadata": {
    "hide-output": false
   },
   "outputs": [],
   "source": [
    "a⁺a⁻ = TensorMap(zeros, ComplexF64, V ⊗ V ← V ⊗ V)\n",
    "for (s, f) in fusiontrees(a⁺a⁻)\n",
    "    if s.uncoupled[1] == only(f.uncoupled[1] ⊗ U1Irrep(1)) && s.uncoupled[2] == only(f.uncoupled[2] ⊗ U1Irrep(-1))\n",
    "        a⁺a⁻[s, f] .= sqrt(s.uncoupled[1].charge * f.uncoupled[2].charge)\n",
    "    end\n",
    "end\n",
    "a⁺a⁻"
   ]
  },
  {
   "cell_type": "code",
   "execution_count": null,
   "id": "aad571e3",
   "metadata": {
    "hide-output": false
   },
   "outputs": [],
   "source": [
    "a⁻a⁺ = TensorMap(zeros, ComplexF64, V ⊗ V ← V ⊗ V)\n",
    "for (s, f) in fusiontrees(a⁻a⁺)\n",
    "    if s.uncoupled[1] == only(f.uncoupled[1] ⊗ U1Irrep(-1)) && s.uncoupled[2] == only(f.uncoupled[2] ⊗ U1Irrep(1))\n",
    "        a⁻a⁺[s, f] .= sqrt(f.uncoupled[1].charge * s.uncoupled[2].charge)\n",
    "    end\n",
    "end\n",
    "a⁻a⁺"
   ]
  },
  {
   "cell_type": "code",
   "execution_count": null,
   "id": "a8d6a02c",
   "metadata": {
    "hide-output": false
   },
   "outputs": [],
   "source": [
    "N = TensorMap(zeros, ComplexF64, V ← V)\n",
    "for (s, f) in fusiontrees(N)\n",
    "    N[s, f] .= f.uncoupled[1].charge\n",
    "end\n",
    "N"
   ]
  },
  {
   "cell_type": "markdown",
   "id": "8be55b49",
   "metadata": {},
   "source": [
    "### Creation and Annihilation Operators as Symmetric Tensors\n",
    "\n",
    "Just as in the $ \\mathbb{Z}_2 $ case, it is obvious that we cannot directly construct the\n",
    "creation and annihilation operators as instances of a `TensorMap(..., V ← V)` since they are\n",
    "not invariant under conjugation by the symmetry operator. However, it is possible to\n",
    "construct them as `TensorMap`s using an *auxiliary vector space*, based on the following\n",
    "intuition. The creation operator $ a^+ $ violates particle number conservation by mapping the\n",
    "occupation number $ n $ to $ n + 1 $. From the point of view of representation theory, this\n",
    "process can be thought of as the *fusion* of an `U1Irrep(n)` with an `U1Irrep(1)`, naturally\n",
    "giving the fusion product `U1Irrep(n + 1)`. This means we can represent $ a^+ $ as a\n",
    "`TensorMap(..., V ← V ⊗ A)`, where the auxiliary vector space `A` contains the $ +1 $ irrep\n",
    "with degeneracy 1, `A = U1Space(1 => 1)`. Similarly, the decrease in occupation number when\n",
    "acting with $ a^- $ can be thought of as the *splitting* of an `U1Irrep(n)` into an\n",
    "`U1Irrep(n - 1)` and an `U1Irrep(1)`, leading to a representation in terms of a\n",
    "`TensorMap(..., A ⊗ V ← V)`. Based on these observations, we can represent the matrix\n",
    "elements [(18.4)](#equation-eq-bosonopmatel) as blocks labeled by the $ \\mathrm{U}(1) $ fusion trees\n",
    "\n",
    "![https://quantumghent.github.io/TensorTutorials/_static/SymmetricTensors/bosonops.svg](https://quantumghent.github.io/TensorTutorials/_static/SymmetricTensors/bosonops.svg)\n",
    "\n",
    "  \n",
    "We can then combine these operators to get the appropriate Hamiltonian terms,\n",
    "\n",
    "![https://quantumghent.github.io/TensorTutorials/_static/SymmetricTensors/bosonham.svg](https://quantumghent.github.io/TensorTutorials/_static/SymmetricTensors/bosonham.svg)\n",
    "\n",
    "  \n",
    ">**Note**\n",
    ">\n",
    ">Although we have made a suggestive distinction between the ‘left’ and ‘right’ versions of\n",
    "the operators $ a_L^\\pm $ and $ a_R^\\pm $, one can actually be obtained from the other by\n",
    "permuting the physical and auxiliary indices of the corresponding `TensorMap`s. This\n",
    "permutation has no effect on the actual array blocks of the tensors due to the\n",
    "[bosonic braiding style](https://jutho.github.io/TensorKit.jl/latest/lib/sectors/#TensorKit.BraidingStyle)\n",
    "of $ \\mathrm{U}(1) $ irreps, so the left and right operators can in essence be seen as the\n",
    "‘same’ tensors. This is no longer the case when considering fermionic systems, where\n",
    "permuting indices can in fact change the array blocks as we will see next. As a consequence,\n",
    "it is much less clear how to construct two-site symmetric operators in terms of local\n",
    "symmetric objects.\n",
    "\n",
    "The explicit construction then looks something like"
   ]
  },
  {
   "cell_type": "code",
   "execution_count": null,
   "id": "db5bc356",
   "metadata": {
    "hide-output": false
   },
   "outputs": [],
   "source": [
    "A = U1Space(1 => 1)"
   ]
  },
  {
   "cell_type": "code",
   "execution_count": null,
   "id": "9389e9b5",
   "metadata": {
    "hide-output": false
   },
   "outputs": [],
   "source": [
    "a⁺ = TensorMap(zeros, ComplexF64, V ← V ⊗ A)\n",
    "for (s, f) in fusiontrees(a⁺)\n",
    "    a⁺[s, f] .= sqrt(f.uncoupled[1].charge+1)\n",
    "end\n",
    "a⁺"
   ]
  },
  {
   "cell_type": "code",
   "execution_count": null,
   "id": "5a09d49b",
   "metadata": {
    "hide-output": false
   },
   "outputs": [],
   "source": [
    "a⁻ = TensorMap(zeros, ComplexF64, A ⊗ V ← V)\n",
    "for (s, f) in fusiontrees(a⁻)\n",
    "    a⁻[s, f] .= sqrt(f.uncoupled[1].charge)\n",
    "end\n",
    "a⁻"
   ]
  },
  {
   "cell_type": "markdown",
   "id": "0efdde8d",
   "metadata": {},
   "source": [
    "It is then simple to check that this is indeed what we expect."
   ]
  },
  {
   "cell_type": "code",
   "execution_count": null,
   "id": "f58e1740",
   "metadata": {
    "hide-output": false
   },
   "outputs": [],
   "source": [
    "@tensor a⁺a⁻_bis[-1 -2; -3 -4] := a⁺[-1; -3 1] * a⁻[1 -2; -4]\n",
    "@tensor a⁻a⁺_bis[-1 -2; -3 -4] := a⁻[1 -1; -3] * a⁺[-2; -4 1]\n",
    "@tensor N_bis[-1 ; -2] := a⁺[-1; 1 2] * a⁻[2 1; -2]\n",
    "\n",
    "@test a⁺a⁻_bis ≈ a⁺a⁻ atol=1e-14\n",
    "@test a⁻a⁺_bis ≈ a⁻a⁺ atol=1e-14\n",
    "@test N_bis ≈ N atol=1e-14"
   ]
  },
  {
   "cell_type": "markdown",
   "id": "7c9cf053",
   "metadata": {},
   "source": [
    ">**Note**\n",
    ">\n",
    ">From the construction of the Hamiltonian operators\n",
    "[in terms of creation and annihilation operators](#bosonham) we clearly see that they are\n",
    "invariant under a transformation $ a^\\pm \\to e^{\\pm i\\theta} a^\\pm $. More generally, any\n",
    "invertible transformation on the auxiliary space leaves the resulting contraction unchanged.\n",
    "This ambiguity in the definition clearly shows that one should really always think in terms\n",
    "of the fully symmetric procucts of $ a^+ $ and $ a^- $ rather than in terms of these operators\n",
    "themselves. In particular, one can always decompose such a symmetric product into the\n",
    "[form above](#bosonham) by means of an SVD."
   ]
  },
  {
   "cell_type": "markdown",
   "id": "a8ba0d3c",
   "metadata": {},
   "source": [
    "## Level 3: Fermions and the Kitaev Model\n",
    "\n",
    "While we have already covered quite a lot of ground towards understanding symmetric tensors\n",
    "in terms of fusion trees and corresponding blocks, the symmetries considered so far have\n",
    "been quite ‘simple’ in the sense that sectors corresponding to irreps of $ \\mathbb{Z}_2 $ and\n",
    "$ \\mathrm{U}(1) $ have\n",
    "[*Abelian fusion rules*](https://jutho.github.io/TensorKit.jl/latest/lib/sectors/#TensorKit.FusionStyle)\n",
    "and\n",
    "[*bosonic exchange statistics*](https://jutho.github.io/TensorKit.jl/latest/lib/sectors/#TensorKit.BraidingStyle).\n",
    "This means that the fusion of two irreps always gives a single irrep as the fusion product,\n",
    "and that exchanging two irreps in a tensor product is trivial. In practice, this implies\n",
    "that for tensors with these symmetries the fusion trees are completely fixed by the\n",
    "uncoupled charges, which uniquely define both the inner lines and the coupled charge, and\n",
    "that tensor indices can be permuted freely without any ‘strange’ side effects.\n",
    "\n",
    "In the following we will consider examples with fermionic and even anyonic exchange\n",
    "statistics, and non-Abelian fusion rules. In going through these examples it will become\n",
    "clear that the fusion trees labeling the blocks of a symmetric tensor imply more information\n",
    "than just a labeling."
   ]
  },
  {
   "cell_type": "markdown",
   "id": "3c4027ad",
   "metadata": {},
   "source": [
    "### Fermion Parity Symmetry\n",
    "\n",
    "As a simple example we will consider the Kitaev chain, which describes a chain of\n",
    "interacting spinless fermions with nearest-neighbor hopping and pairing terms. The\n",
    "Hamiltonian of this model is given by\n",
    "\n",
    "\n",
    "<a id='equation-eq-kitaev'></a>\n",
    "$$\n",
    "H = \\sum_{\\langle i,j \\rangle} \\left(-\\frac{t}{2}(c_i^+ c_j^- - c_i^- c_j^+) + \\frac{\\Delta}{2}(c_i^+ c_j^+ - c_i^- c_j^-) \\right) - \\mu \\sum_{i} N_i \\tag{18.5}\n",
    "$$\n",
    "\n",
    "where $ N_i = c_i^+ c_i^- $ is the local particle number operator. As opposed to the previous\n",
    "case, the fermionic creation and annihilation operators now satisfy the anticommutation\n",
    "relations\n",
    "\n",
    "$$\n",
    "\\begin{align*}\n",
    "\\left\\{c_i^-, c_j^-\\right\\} &= \\left\\{c_i^+, c_j^+\\right\\} = 0 \\\\\n",
    "\\left\\{c_i^-, c_j^+\\right\\} &= \\delta_{ij} .\\\\\n",
    "\\end{align*}\n",
    "$$\n",
    "\n",
    "These relations justify the choice of the relative minus sign in the hopping and pairing\n",
    "terms. Indeed, since fermionic operators on different sites always anticommute, these\n",
    "relative minus signs are needed to ensure that the Hamiltonian is Hermitian, since $ \\left(\n",
    "c_i^+ c_j^- \\right)^\\dagger = c_j^+ c_i^- = - c_i^- c_j^+ $ and $ \\left( c_i^+ c_j^+\n",
    "\\right)^\\dagger = c_j^- c_i^- = - c_i^- c_j^- $. The anticommutation relations also naturally\n",
    "restrict the local occupation number to be 0 or 1, leading to a well-defined notion of\n",
    "*fermion-parity*. The local fermion-parity operator is related to the fermion number\n",
    "operator as $ Q_i = (-1)^{N_i} $, and is diagonal in the occupation number basis. The\n",
    "Hamiltonian [(18.5)](#equation-eq-kitaev) is invariant under conjugation by the global fermion-parity\n",
    "operator, $ Q H Q^\\dagger = H $, where\n",
    "\n",
    "$$\n",
    "Q = \\exp \\left( i \\pi \\sum_i N_i \\right) = (-1)^{\\sum_i N_i}.\n",
    "$$\n",
    "\n",
    "This fermion parity symmetry, which we will denote as $ f\\mathbb{Z}_2 $, is a\n",
    "$ \\mathbb{Z}_2 $-like symmetry in the sense that it has a trivial representation, which we\n",
    "call *even* and again denote by ‘0’, and a sign representation which we call *odd* and\n",
    "denote by ‘1’. The fusion rules of these irreps are the same as for $ \\mathbb{Z}_2 $. Similar\n",
    "to the previous case, the local symmetry operator $ Q_i $ is already diagonal, so the\n",
    "occupation number basis coincides with the irrep basis and we don’t need an additional basis\n",
    "transform. The important difference with a regular $ \\mathbb{Z}_2 $ symmetry is that the\n",
    "irreps of $ f\\mathbb{Z}_2 $ have fermionic braiding statistics, in the sense that exhanging\n",
    "two odd irreps gives rise to a minus sign.\n",
    "\n",
    "In TensorKit.jl, an $ f\\mathbb{Z}_2 $-graded vector spaces is represented as a\n",
    "`Vect[FermionParity]` space, where a given $ f\\mathbb{Z}_2 $ irrep can be represented as a\n",
    "[`FermionParity`](https://jutho.github.io/TensorKit.jl/stable/lib/sectors/#TensorKit.FermionParity)\n",
    "sector instance. Using the simplest instance of a vector space containing a single even and\n",
    "odd irrep, we can already demonstrate the corresponding fermionic braiding behavior by\n",
    "[performing a permutation](https://jutho.github.io/TensorKit.jl/stable/lib/tensors/#TensorKit.permute-Union%7BTuple%7BN%E2%82%82%7D,%20Tuple%7BN%E2%82%81%7D,%20Tuple%7BS%7D,%20Tuple%7BAbstractTensorMap%7BS%7D,%20Tuple%7BTuple%7BVararg%7BInt64,%20N%E2%82%81%7D%7D,%20Tuple%7BVararg%7BInt64,%20N%E2%82%82%7D%7D%7D%7D%7D%20where%20%7BS,%20N%E2%82%81,%20N%E2%82%82%7D)\n",
    "on a simple `TensorMap`."
   ]
  },
  {
   "cell_type": "code",
   "execution_count": null,
   "id": "e05dadea",
   "metadata": {
    "hide-output": false
   },
   "outputs": [],
   "source": [
    "V = Vect[FermionParity](0 => 1, 1 => 1)\n",
    "t = TensorMap(ones, ComplexF64, V ← V ⊗ V)"
   ]
  },
  {
   "cell_type": "code",
   "execution_count": null,
   "id": "45f1fa04",
   "metadata": {
    "hide-output": false
   },
   "outputs": [],
   "source": [
    "permute(t, ((1,), (3, 2)))"
   ]
  },
  {
   "cell_type": "markdown",
   "id": "aa85e6c1",
   "metadata": {},
   "source": [
    "In other words, when exchanging the two domain vector spaces, the block of the `TensorMap`\n",
    "for which both corresponding irreps are odd picks up a minus sign, exactly as we would\n",
    "expect for fermionic charges."
   ]
  },
  {
   "cell_type": "markdown",
   "id": "16de3c20",
   "metadata": {},
   "source": [
    "### Constructing the Hamiltonian\n",
    "\n",
    "We can directly construct the Hamiltonian terms as symmetric `TensorMap`s using the same\n",
    "procedure as before starting from their matrix elements in the occupation number basis.\n",
    "However, in this case we should be a bit more careful about the precise definition of the\n",
    "basis states in composite systems. Indeed, the tensor product structure of fermionic systems\n",
    "is inherently tricky to deal with, and should ideally be treated in the context of\n",
    "[*super vector spaces*](https://en.wikipedia.org/wiki/Super_vector_space). For two sites, we\n",
    "can define the following basis states on top of the fermionic vacuuum $ \\ket{00} $:\n",
    "\n",
    "$$\n",
    "\\begin{align*}\n",
    "\\ket{01} &= c_2^+ \\ket{00}, \\\\\n",
    "\\ket{10} &= c_1^+ \\ket{00}, \\\\\n",
    "\\ket{11} &= c_1^+ c_2^+ \\ket{00}. \\\\\n",
    "\\end{align*}\n",
    "$$\n",
    "\n",
    "This definition in combination with the anticommutation relations above give rise to the\n",
    "nonzero matrix elements\n",
    "\n",
    "$$\n",
    "\\begin{align*}\n",
    "c_1^+ c_2^- \\ket{0, 1} &= \\ket{1, 0}, \\\\\n",
    "c_1^- c_2^+ \\ket{1, 0} &= - \\ket{0, 1}, \\\\\n",
    "c_1^+ c_2^+ \\ket{0, 0} &= \\ket{1, 1}, \\\\\n",
    "c_1^- c_2^- \\ket{1, 1} &= - \\ket{0, 0}, \\\\\n",
    "N \\ket{n} &= n \\ket{n}.\n",
    "\\end{align*}\n",
    "$$\n",
    "\n",
    "While the signs in these expressions may seem a little unintuitive at first sight, they are\n",
    "essential to the fermionic nature of the system. Indeed, if we for example work out the\n",
    "matrix element of $ c_1^- c_2^+ $ we find\n",
    "\n",
    "$$\n",
    "\\begin{align*}\n",
    "c_1^- c_2^+ \\ket{1, 0} = c_1^- c_2^+ c_1^+ \\ket{0, 0} = - c_2^+ c_1^- c_1^+ \\ket{0, 0} = - c_2^+ (\\mathbb{1} - c_1^+ c_1^-) \\ket{0, 0} = - c_2^+ \\ket{0, 0} = - \\ket{0, 1}. \\\\\n",
    "\\end{align*}\n",
    "$$\n",
    "\n",
    "Once we have these matrix elements the hard part is done, and we can straightforwardly\n",
    "associate these to the following $ f\\mathbb{Z}_2 $ fusion trees with corresponding block\n",
    "values,\n",
    "\n",
    "![https://quantumghent.github.io/TensorTutorials/_static/SymmetricTensors/fZ2_fusiontrees.svg](https://quantumghent.github.io/TensorTutorials/_static/SymmetricTensors/fZ2_fusiontrees.svg)\n",
    "\n",
    "  \n",
    "Given this information, we can go through the same procedure again to construct $ c^+ c^- $,\n",
    "$ c^- c^+ $ and $ N $ operators as `TensorMap`s over $ f\\mathbb{Z}_2 $-graded vector spaces."
   ]
  },
  {
   "cell_type": "code",
   "execution_count": null,
   "id": "61ffae82",
   "metadata": {
    "hide-output": false
   },
   "outputs": [],
   "source": [
    "V = Vect[FermionParity](0 => 1, 1 => 1)"
   ]
  },
  {
   "cell_type": "code",
   "execution_count": null,
   "id": "4aa50fd3",
   "metadata": {
    "hide-output": false
   },
   "outputs": [],
   "source": [
    "c⁺c⁻ = TensorMap(zeros, ComplexF64, V ⊗ V ← V ⊗ V)\n",
    "odd = FermionParity(1)\n",
    "for (s, f) in fusiontrees(c⁺c⁻)\n",
    "    if s.uncoupled[1] == odd && f.uncoupled[2] == odd && f.coupled == odd\n",
    "        c⁺c⁻[s, f] .= 1\n",
    "    end\n",
    "end\n",
    "c⁺c⁻"
   ]
  },
  {
   "cell_type": "code",
   "execution_count": null,
   "id": "345b1c3c",
   "metadata": {
    "hide-output": false
   },
   "outputs": [],
   "source": [
    "c⁻c⁺ = TensorMap(zeros, ComplexF64, V ⊗ V ← V ⊗ V)\n",
    "for (s, f) in fusiontrees(c⁻c⁺)\n",
    "    if f.uncoupled[1] == odd && s.uncoupled[2] == odd && f.coupled == odd\n",
    "        c⁻c⁺[s, f] .= -1\n",
    "    end\n",
    "end\n",
    "c⁻c⁺"
   ]
  },
  {
   "cell_type": "code",
   "execution_count": null,
   "id": "38b535ff",
   "metadata": {
    "hide-output": false
   },
   "outputs": [],
   "source": [
    "c⁺c⁺ = TensorMap(zeros, ComplexF64, V ⊗ V ← V ⊗ V)\n",
    "odd = FermionParity(1)\n",
    "for (s, f) in fusiontrees(c⁺c⁺)\n",
    "    if s.uncoupled[1] == odd && f.uncoupled[1] != odd && f.coupled != odd\n",
    "        c⁺c⁺[s, f] .= 1\n",
    "    end\n",
    "end\n",
    "c⁺c⁺"
   ]
  },
  {
   "cell_type": "code",
   "execution_count": null,
   "id": "d6f5f44b",
   "metadata": {
    "hide-output": false
   },
   "outputs": [],
   "source": [
    "c⁻c⁻ = TensorMap(zeros, ComplexF64, V ⊗ V ← V ⊗ V)\n",
    "for (s, f) in fusiontrees(c⁻c⁻)\n",
    "    if s.uncoupled[1] != odd && f.uncoupled[2] == odd && f.coupled != odd\n",
    "        c⁻c⁻[s, f] .= -1\n",
    "    end\n",
    "end\n",
    "c⁻c⁻"
   ]
  },
  {
   "cell_type": "code",
   "execution_count": null,
   "id": "2f1ce217",
   "metadata": {
    "hide-output": false
   },
   "outputs": [],
   "source": [
    "N = TensorMap(zeros, ComplexF64, V ← V)\n",
    "for (s, f) in fusiontrees(N)\n",
    "    N[s, f] .= f.coupled == odd ? 1 : 0\n",
    "end\n",
    "N"
   ]
  },
  {
   "cell_type": "markdown",
   "id": "2eeaf4b2",
   "metadata": {},
   "source": [
    ">**Note**\n",
    ">\n",
    ">Working with fermionic systems is inherently tricky, as can already be seen from something\n",
    "as simple as computing matrix elements of fermionic operators. Similarly, while constructing\n",
    "symmetric tensors that correspond to the symmetric Hamiltonian terms was still quite\n",
    "straightforward, it is far less clear in this case how to construct these terms as\n",
    "contractions of local symmetric tensors representing individual creation and annihilation\n",
    "operators in this case. While such a decomposition can always be in principle obtained using\n",
    "a (now explicitly fermionic) SVD, manually constructing such tensors as we did in the\n",
    "bosonic case is far from trivial. Trying this would be a good exercise in working with\n",
    "fermionic symmetries, but it is not something we will do here.\n",
    "\n",
    "\n",
    "<a id='non-abelian'></a>"
   ]
  },
  {
   "cell_type": "markdown",
   "id": "41f15010",
   "metadata": {},
   "source": [
    "## Level 4: Non-Abelian Symmetries and the Quantum Heisenberg Model\n",
    "\n",
    "We will now move on to systems which have more complicated *non-Abelian* symmetries. For a\n",
    "non-Abelian symmetry group $ G $, the fact that its elements do not all commute has a profound\n",
    "impact on its representation theory. In particular, the irreps of such a group can be higher\n",
    "dimensional, and the fusion of two irreps can give rise to multiple different irreps. On the\n",
    "one hand this means that fusion trees of these irreps are no longer completely determined by\n",
    "the uncoupled charges. Indeed, in this case some of the\n",
    "[internal structure of the `FusionTree` type](#fusion-trees) we have ignored before will\n",
    "become relevant (of which we will give an [example below](#sun-heisenberg)). On the other\n",
    "hand, it follows that fusion trees of irreps now not only label blocks, but also encode a\n",
    "certain *nontrivial symmetry structure*. We will make this statement more precise in the\n",
    "following, but the fact that this is necessary is quite intuitive. If we recall our original\n",
    "statement that symmetric tensors consist of blocks associated to fusion trees which carry\n",
    "irrep labels, then for higher-dimensional irreps the corresponding fusion trees must encode\n",
    "some additional information that implicitly takes into account the internal structure of the\n",
    "representation spaces. In particular, this means that the conversion of an operator, given\n",
    "its matrix elements in the irrep basis, to the blocks of the corresponding symmetric\n",
    "`TensorMap` is less straightforward since it requires an understanding of exactly what this\n",
    "implied internal structure is. Therefore, we require some more discussion before we can\n",
    "actually move on to an example.\n",
    "\n",
    "We’ll start by discussing the general structure of a `TensorMap` which is symmetric under a\n",
    "non-Abelian group symmetry. We then given an example based on $ \\mathrm{SU}(2) $, where we\n",
    "construct the Heisenberg Hamiltonian using two different approaches. Finally, we show how\n",
    "the more intuitive approach can be used to obtain an elegant generalization to the\n",
    "$ \\mathrm{SU}(N) $-symmetric case."
   ]
  },
  {
   "cell_type": "markdown",
   "id": "4a8ffa9c",
   "metadata": {},
   "source": [
    "### Block Sparsity Revisited: The Wigner-Eckart Theorem\n",
    "\n",
    "Let us recall some basics of representation theory first. Consider a group $ G $ and a\n",
    "corresponding representation space $ V $, such that every element $ g \\in G $ can be realized as\n",
    "a unitary operator $ U_g : V \\to V $. Let $ h $ be a `TensorMap` whose domain and codomain are\n",
    "given by the tensor product of two of these representation spaces. Recall that, by\n",
    "definition, the statement that ‘$ h $ is symmetric under $ G $’ means that\n",
    "\n",
    "![https://quantumghent.github.io/TensorTutorials/_static/SymmetricTensors/symmetric_tensor.svg](https://quantumghent.github.io/TensorTutorials/_static/SymmetricTensors/symmetric_tensor.svg)\n",
    "\n",
    "  \n",
    "for every $ g \\in G $. If we label the irreducible representations of $ G $ by $ l $, then any\n",
    "representation space can be decomposed into a direct sum of irreducible representations, $ V\n",
    "= \\bigoplus_l V^{(l)} $, in such a way that $ U_g $ is block-diagonal where each block is\n",
    "labeled by a particular irrep $ l $. For each irrep space $ V^{(l)} $ we can define an\n",
    "orthonormal basis labeled as $ \\ket{l, m} $, where the auxiliary label $ m $ can take\n",
    "$ \\text{dim}\\left( V^{(l)} \\right) $ different values. Since we know that tensors are\n",
    "multilinear maps over tensor product spaces, it is natural to consider the tensor product of\n",
    "representation spaces in more detail.\n",
    "\n",
    "[From the representation theory of groups](https://en.wikipedia.org/wiki/Tensor_product_of_representations#Clebsch%E2%80%93Gordan_theory),\n",
    "it is known that the product of two irreps can in turn be decomposed into a direct sum of\n",
    "irreps, $ V^{(l_1)} \\otimes V^{(l_2)} \\cong \\bigoplus_{k} V^{(k)} $. The precise nature of\n",
    "this decomposition, also refered to as the *Clebsch-Gordan problem*, is given by the\n",
    "so-called *Clebsch-Gordan coefficients*, which we will denote as $ C^{k}_{l_1,l_2} $. This set\n",
    "of coefficients, which can be interpreted as a $ \\text{dim}\\left( V^{(l_1)} \\right) \\times\n",
    "\\text{dim}\\left( V^{(l_2)} \\right) \\times \\text{dim}\\left( V^{(k)} \\right) $ array, that\n",
    "encodes how a basis state $ \\ket{k,n} \\in V^{(k)} $ corresponding to some term in the direct\n",
    "sum can be decomposed into a linear combination of basis vectors $ \\ket{l_1,m_1} \\otimes\n",
    "\\ket{l_2,m_2} $ of the tensor product space:\n",
    "\n",
    "$$\n",
    "\\ket{k,n} = \\sum_{m_1, m_2} \\left( C^{k}_{l_1,l_2} \\right)^{n}_{m_1, m_2} \\ket{l_1,m_1} \\otimes \\ket{l_2,m_2}.\n",
    "$$\n",
    "\n",
    "These recoupling coefficients turn out to be essential to the structure of symmetric\n",
    "tensors, which can be best understood in the context of the\n",
    "[Wigner-Eckart theorem](https://en.wikipedia.org/wiki/Wigner%E2%80%93Eckart_theorem). This\n",
    "theorem implies that for any\n",
    "[`TensorMap` $ h $ that is symmetric under $ G $](#symmetric-tensor), its matrix elements in the\n",
    "tensor product irrep basis are given by the product of Clebsch-Gordan coefficients which\n",
    "characterize the coupling of the basis states in the domain and codomain, and a so-called\n",
    "*reduced matrix element* which only depends on the irrep labels. Concretely, the matrix\n",
    "element $ \\bra{l_1,m_1} \\otimes \\bra{l_2,m_2} h \\ket{l_3,m_3} \\otimes \\ket{l_4,m_4} $ is given\n",
    "by\n",
    "\n",
    "![https://quantumghent.github.io/TensorTutorials/_static/SymmetricTensors/wignereckart.svg](https://quantumghent.github.io/TensorTutorials/_static/SymmetricTensors/wignereckart.svg)\n",
    "\n",
    "  \n",
    "Here, the sum runs over all possible irreps $ k $ in the fusion product $ l_3 \\otimes l_4 $ and\n",
    "over all basis states $ \\ket{k,n} $ of $ V^{(k)} $. The reduced matrix elements $ h_{\\text{red}} $\n",
    "are independent of the basis state labels and only depend on the irrep labels themselves.\n",
    "Each reduced matrix element should be interpreted as being labeled by an irrep fusion tree,\n",
    "\n",
    "![https://quantumghent.github.io/TensorTutorials/_static/SymmetricTensors/anotherfusiontree.svg](https://quantumghent.github.io/TensorTutorials/_static/SymmetricTensors/anotherfusiontree.svg)\n",
    "\n",
    "  \n",
    "The fusion tree itself in turn implies the Clebsch-Gordan coefficients $ C^{k}_{l_1,l_2} $ and\n",
    "conjugate coefficients $ {C^{\\dagger}}_{k}^{l_1,l_2} $ encode the splitting (decomposition) of\n",
    "the coupled basis state $ \\ket{k,n} $ to the codomain basis states $ \\ket{l_1,m_1} \\otimes\n",
    "\\ket{l_2,m_2} $ and the coupling of the domain basis states $ \\ket{l_3,m_3} \\otimes\n",
    "\\ket{l_4,m_4} $ to the coupled basis state $ \\ket{k,n} $ respectively.\n",
    "\n",
    "The Wigner-Eckart theorem dictates that this structure in terms of Clebsch-Gordan\n",
    "coefficients is necessary to ensure that the corresponding tensor is symmetric. It is\n",
    "precisely this structure that is inherently encoded into the fusion tree part of a symmetric\n",
    "`TensorMap`. In particular, **the array block value associated to each fusion tree in a\n",
    "symmetric tensor is precisely the reduced matrix element in the Clebsch-Gordan\n",
    "decomposition**.\n",
    "\n",
    "As a small demonstration of this fact, we can make a simple $ \\mathrm{SU}(2) $-symmetric\n",
    "tensor with trivial block values and verify that its implied symmetry structure exactly\n",
    "corresponds to the expected Clebsch-Gordan coefficient. First, we [recall](https://quantumghent.github.io/TensorTutorials/../2-TensorNetworks/Symmetries.html#su2-irreps) that\n",
    "the irreps of $ \\mathrm{SU}(2) $ can be labeled by a halfinteger *spin* that takes values $ l =\n",
    "0, \\frac{1}{2}, 1, \\frac{3}{2}, ... $, and where the dimension of the spin-$ l $ representation\n",
    "is equal to $ 2l + 1 $. The fusion rules of $ \\mathrm{SU}(2) $ are given by\n",
    "\n",
    "$$\n",
    "l_1 \\otimes l_2 \\cong \\bigoplus_{k=|l_1-l_2|}^{l_1+l_2}s.\n",
    "$$\n",
    "\n",
    "These are clearly non-Abelian since multiple terms appear on the right hand side, for\n",
    "example $ \\frac{1}{2} \\otimes \\frac{1}{2} \\cong 0 \\oplus 1 $. In TensorKit.jl, a\n",
    "$ \\mathrm{SU}(2) $-graded vector space is represented as an\n",
    "[`SU2Space`](https://jutho.github.io/TensorKit.jl/latest/lib/spaces/#TensorKit.SU2Space),\n",
    "where a given $ \\mathrm{SU}(2) $ irrep can be represented as an\n",
    "[`SU2Irrep`](https://jutho.github.io/TensorKit.jl/latest/lib/sectors/#TensorKit.SU2Irrep)\n",
    "instance of integer or halfinteger spin as encoded in its `j` field. If we construct a\n",
    "`TensorMap` whose symmetry structure corresponds to the coupling of two spin-$ \\frac{1}{2} $\n",
    "irreps to a spin-$ 1 $ irrep, we can then convert it to a plain array and compare it to the\n",
    "$ \\mathrm{SU}(2) $ Clebsch-Gordan coefficients exported by the\n",
    "[WignerSymbols.jl package](https://github.com/Jutho/WignerSymbols.jl)."
   ]
  },
  {
   "cell_type": "code",
   "execution_count": null,
   "id": "465d4f5f",
   "metadata": {
    "hide-output": false
   },
   "outputs": [],
   "source": [
    "V1 = SU2Space(1 => 1)\n",
    "V2 = SU2Space(1//2 => 1)\n",
    "t = TensorMap(ones, ComplexF64, V1 ← V2 ⊗ V2)"
   ]
  },
  {
   "cell_type": "code",
   "execution_count": null,
   "id": "1fcd1528",
   "metadata": {
    "hide-output": false
   },
   "outputs": [],
   "source": [
    "ta = convert(Array, t)"
   ]
  },
  {
   "cell_type": "markdown",
   "id": "bcfe68d8",
   "metadata": {},
   "source": [
    "The conversion gives us a $ 3 \\times 2 \\times 2 $ array, which exactly corresponds to the size\n",
    "of the $ C_{1}^{\\frac{1}{2},\\frac{1}{2}} $ Clebsch-Gordan array. In order to explicitly\n",
    "compare whether the entries match we need to know the ordering of basis states assumed by\n",
    "TensorKit.jl when converting the tensor to its matrix elements in the irrep basis. For\n",
    "$ \\mathrm{SU}(2) $ the irrep basis is ordered in ascending magnetic quantum number $ m $, which\n",
    "gives us a map $ m = i - (l+1) $ for mapping an array index to a corresponding magnetic\n",
    "quantum number for the spin-$ l $ irrep."
   ]
  },
  {
   "cell_type": "code",
   "execution_count": null,
   "id": "da3b51fc",
   "metadata": {
    "hide-output": false
   },
   "outputs": [],
   "source": [
    "for i1 in 1:dim(V1), i2 in 1:dim(V2), i3 in 1:dim(V2)\n",
    "    # map basis state index to magnetic quantum number\n",
    "    m1 = i1 - (1 + 1)\n",
    "    m2 = i2 - (1//2 + 1)\n",
    "    m3 = i3 - (1//2 + 1)\n",
    "    @test ta[i1, i2, i3] ≈ clebschgordan(1//2, m2, 1//2, m3, 1, m1)\n",
    "end"
   ]
  },
  {
   "cell_type": "markdown",
   "id": "5d3f0fab",
   "metadata": {},
   "source": [
    "Based on this discussion, we can quantify the aforementioned ‘difficulties’ in the inverse\n",
    "operation of what we just demonstrated, namely converting a given operator to a symmetric\n",
    "`TensorMap` given only its matrix elements in the irrep basis. Indeed, it is now clear that\n",
    "this precisely requires isolating the reduced matrix elements introduced above. Given the\n",
    "matrix elements of the operator in the irrep basis, this can in general be done by solving\n",
    "the system of equations implied by the [Clebsch-Gordan decomposition](#wignereckart). A\n",
    "simpler way to achieve the same thing is to make use of the fact that the\n",
    "[Clebsch-Gordan tensors form a complete orthonormal basis](https://en.wikipedia.org/wiki/Clebsch%E2%80%93Gordan_coefficients#Orthogonality_relations)\n",
    "on the coupled space. Indeed, by projecting out the appropriate Clebsch-Gordan coefficients\n",
    "and using their orthogonality relations, we can construct a diagonal operator on each\n",
    "coupled irrep space $ V^{(k)} $. Each of these diagonal operators is proportional to the\n",
    "identity, where the proportionality factor is precisely the reduced matrix element\n",
    "associated to the corresponding irrep fusion tree.\n",
    "\n",
    "![https://quantumghent.github.io/TensorTutorials/_static/SymmetricTensors/none2symm.svg](https://quantumghent.github.io/TensorTutorials/_static/SymmetricTensors/none2symm.svg)\n",
    "\n",
    "  \n",
    "This procedure works for any group symmetry, and all we need are matrix elements of the\n",
    "operator in the irrep basis and the Clebsch-Gordan coefficients. In the following we\n",
    "demonstrate this explicit procedure for the particular example of $ G = \\mathrm{SU}(2) $.\n",
    "However, it should be noted that for general groups the Clebsch-Gordan coefficients may not\n",
    "be as easy to compute (in general, no closed formulas exist). In addition, the procedure for\n",
    "manually projecting out the reduced matrix elements requires being particularly careful\n",
    "about the correspondence between the basis states used to define the original matrix\n",
    "elements and those implied by the Clebsch-Gordan coefficients. Therefore, it is often easier\n",
    "to directly construct the symmetric tensor based on some representation theory, as we will\n",
    "see below."
   ]
  },
  {
   "cell_type": "markdown",
   "id": "379cb77b",
   "metadata": {},
   "source": [
    "### The ‘Generic’ Approach to the Spin-1 Heisenberg Model: Wigner-Eckart in Action\n",
    "\n",
    "Consider the spin-1 Heisenberg model with Hamiltonian\n",
    "\n",
    "$$\n",
    "H = J \\sum_{\\langle i,j \\rangle} \\vec{S}_i \\cdot \\vec{S}_j\n",
    "$$\n",
    "\n",
    "where $ \\vec{S} = (S^x, S^y, S^z) $ are the spin operators. The physical Hilbert space at each\n",
    "site is the three-dimensional spin-1 irrep of $ \\mathrm{SU}(2) $. Each two-site exchange\n",
    "operator $ \\vec{S}_i \\cdot \\vec{S}_j $ in the sum commutes with a global transformation $ g \\in\n",
    "\\mathrm{SU}(2) $, so that it satisfies the [above symmetry condition](#symmetric-tensor).\n",
    "Therefore, we can represent it as an $ \\mathrm{SU}(2) $-symmetric `TensorMap`, as long as we\n",
    "can isolate its reduced matrix elements.\n",
    "\n",
    "In order to apply the above procedure, we first require the matrix elements in the irrep\n",
    "basis. These can be constructed as a $ 3 \\times 3 \\times 3 \\times 3 $ array `SS` using the\n",
    "[familiar representation of the $ \\mathrm{SU}(2) $ generators in the spin-1 representation](https://en.wikipedia.org/wiki/Spin_%28physics%29#Higher_spins),\n",
    "with respect to the $ \\{\\ket{1,-1}, \\ket{1,0}, \\ket{1,1}\\} $ basis."
   ]
  },
  {
   "cell_type": "code",
   "execution_count": null,
   "id": "eb1b4c75",
   "metadata": {
    "hide-output": false
   },
   "outputs": [],
   "source": [
    "Sx = 1 / sqrt(2) * ComplexF64[0 1 0; 1 0 1; 0 1 0]\n",
    "Sy = 1 / sqrt(2) * ComplexF64[0 1im 0; -1im 0 1im; 0 -1im 0]\n",
    "Sz = ComplexF64[-1 0 0; 0 0 0; 0 0 1]\n",
    "\n",
    "@tensor SS_arr[-1 -2; -3 -4] := Sx[-1; -3] * Sx[-2; -4] + Sy[-1; -3] * Sy[-2; -4] + Sz[-1; -3] * Sz[-2; -4]"
   ]
  },
  {
   "cell_type": "markdown",
   "id": "c4b650a0",
   "metadata": {},
   "source": [
    "The next step is to project out the reduced matrix elements by taking the overlap with the\n",
    "appropriate Clebsch-Gordan coefficients, according to\n",
    "[the Clebsch-Gordan decomposition given above](#none2symm). In our current case of a spin-1\n",
    "physical space we have $ l_1 = l_2 = l_3 = l_4 = 1 $, and the coupled irrep $ k $ can therefore\n",
    "take the values $ 0, 1, 2 $. The reduced matrix element for a given $ k $ can then be\n",
    "implemented in the following way:"
   ]
  },
  {
   "cell_type": "code",
   "execution_count": null,
   "id": "e3da9d36",
   "metadata": {
    "hide-output": false
   },
   "outputs": [],
   "source": [
    "function get_reduced_element(k)\n",
    "    # construct Clebsch-Gordan coefficients for coupling 1 ⊗ 1 to k   \n",
    "    CG = zeros(ComplexF64, 3, 3, 2*k + 1)\n",
    "    for m1 in -k:k, m2 in -1:1, m3 in -1:1\n",
    "        CG[m2 + 2, m3 + 2, m1 + k + 1] = clebschgordan(1, m2, 1, m3, k, m1)\n",
    "    end\n",
    "\n",
    "    # project out diagonal matrix on coupled irrep space\n",
    "    @tensor reduced_matrix[-1; -2] := CG[1 2; -1] * SS_arr[1 2; 3 4] * conj(CG[3 4; -2])\n",
    "\n",
    "    # check that it is proportional to the identity\n",
    "    @assert isapprox(reduced_matrix, reduced_matrix[1, 1] * I; atol=1e-12)\n",
    "\n",
    "    # return the proportionality factor\n",
    "    return reduced_matrix[1, 1]\n",
    "end"
   ]
  },
  {
   "cell_type": "markdown",
   "id": "7073cd07",
   "metadata": {},
   "source": [
    "If we use this to compute the reduced matrix elements for $ k = 0, 1, 2 $,"
   ]
  },
  {
   "cell_type": "code",
   "execution_count": null,
   "id": "25a3bf55",
   "metadata": {
    "hide-output": false
   },
   "outputs": [],
   "source": [
    "get_reduced_element(0)"
   ]
  },
  {
   "cell_type": "code",
   "execution_count": null,
   "id": "95362a4d",
   "metadata": {
    "hide-output": false
   },
   "outputs": [],
   "source": [
    "get_reduced_element(1)"
   ]
  },
  {
   "cell_type": "code",
   "execution_count": null,
   "id": "ebc44543",
   "metadata": {
    "hide-output": false
   },
   "outputs": [],
   "source": [
    "get_reduced_element(2)"
   ]
  },
  {
   "cell_type": "markdown",
   "id": "1dc66889",
   "metadata": {},
   "source": [
    "we can read off the entries\n",
    "\n",
    "$$\n",
    "\\renewcommand\\thickspace{\\kern .01ex}\n",
    "\\left[ (\\vec{S}_i \\cdot \\vec{S}_j)_\\text{red} \\right] \\,\\,\\!\\!\n",
    "\\begin{smallmatrix}\n",
    "    1,1\\\\\n",
    "    0\\\\\n",
    "    1,1\n",
    "\\end{smallmatrix} = -2, \\quad\n",
    "\\left[ (\\vec{S}_i \\cdot \\vec{S}_j)_\\text{red} \\right] \\,\\,\\!\\!\n",
    "\\begin{smallmatrix}\n",
    "    1,1\\\\\n",
    "    1\\\\\n",
    "    1,1\n",
    "\\end{smallmatrix} = -1, \\quad\n",
    "\\left[ (\\vec{S}_i \\cdot \\vec{S}_j)_\\text{red} \\right] \\,\\,\\!\\!\n",
    "\\begin{smallmatrix}\n",
    "    1,1\\\\\n",
    "    2\\\\\n",
    "    1,1\n",
    "\\end{smallmatrix} = 1, \\quad\n",
    "$$\n",
    "\n",
    "These can then be used to construct the symmetric `TensorMap` representing the exchange\n",
    "interaction:"
   ]
  },
  {
   "cell_type": "code",
   "execution_count": null,
   "id": "fc9fed27",
   "metadata": {
    "hide-output": false
   },
   "outputs": [],
   "source": [
    "V = SU2Space(1 => 1)\n",
    "SS = TensorMap(zeros, ComplexF64, V ⊗ V ← V ⊗ V)\n",
    "for (s, f) in fusiontrees(SS)\n",
    "    k = Int(f.coupled.j)\n",
    "    SS[s, f] .= get_reduced_element(k)\n",
    "end\n",
    "SS"
   ]
  },
  {
   "cell_type": "markdown",
   "id": "284c7b9c",
   "metadata": {},
   "source": [
    "### An ‘Elegant’ Approach to the Heisenberg Model\n",
    "\n",
    "As noted above, the explicit procedure of projecting out the reduced matrix elements from\n",
    "the action of an operator in the irrep basis can be a bit cumbersome for more complicated\n",
    "groups. However, using some basic representation theory we can bypass this step altogether\n",
    "for the Heisenberg model. First, we rewrite the exchange interaction in the following way:\n",
    "\n",
    "\n",
    "<a id='equation-eq-casimir-decomp'></a>\n",
    "$$\n",
    "\\vec{S}_i \\cdot \\vec{S}_j = \\frac{1}{2} \\left( \\left( \\vec{S}_i + \\vec{S}_j \\right)^2 - \\vec{S}_i^2 - \\vec{S}_j^2 \\right) \\tag{18.6}\n",
    "$$\n",
    "\n",
    "Here, $ \\vec{S}_i $ and $ \\vec{S}_j $ are spin operators on the physcial irrep, while total spin\n",
    "operator $ \\vec{S}_i + \\vec{S}_j $ can be decomposed onto the different coupled irreps $ k $. It\n",
    "is a well known fact that the quadratic sum of the generators of $ \\mathrm{SU}(2) $, often\n",
    "refered to as the\n",
    "[*quadratic Casimir*](https://en.wikipedia.org/wiki/Representation_theory_of_SU%282%29#The_Casimir_element),\n",
    "commutes with all generators. By\n",
    "[Schur’s lemma](https://en.wikipedia.org/wiki/Schur%27s_lemma), it must then act\n",
    "proportionally to the identity on every irrep, where the corresponding eigenvalue is\n",
    "determined by the spin irrep label. In particular, we have for each irrep $ l $\n",
    "\n",
    "$$\n",
    "\\vec{S}^2 \\ket{l,m} = l(l+1) \\ket{l,m}.\n",
    "$$\n",
    "\n",
    "It then follows from Eq. [(18.6)](#equation-eq-casimir-decomp) that the reduced matrix elements of the\n",
    "exchange interaction are completely determined by the eigenvalue of the quadratic Casimir on\n",
    "the uncoupled and coupled irreps. Indeed, to each fusion tree we can associate a\n",
    "well-defined value\n",
    "\n",
    "![https://quantumghent.github.io/TensorTutorials/_static/SymmetricTensors/SU2_fusiontrees.svg](https://quantumghent.github.io/TensorTutorials/_static/SymmetricTensors/SU2_fusiontrees.svg)\n",
    "\n",
    "  \n",
    "This gives us all we need to directly construct the exchange interaction as a symmetric\n",
    "`TensorMap`,"
   ]
  },
  {
   "cell_type": "code",
   "execution_count": null,
   "id": "aab39827",
   "metadata": {
    "hide-output": false
   },
   "outputs": [],
   "source": [
    "V = SU2Space(1 => 1)\n",
    "SS = TensorMap(zeros, ComplexF64, V ⊗ V ← V ⊗ V)\n",
    "for (s, f) in fusiontrees(SS)\n",
    "    l3 = f.uncoupled[1].j\n",
    "    l4 = f.uncoupled[2].j\n",
    "    k = f.coupled.j\n",
    "    SS[s, f] .= (k * (k + 1) - l3 * (l3 + 1) - l4 * (l4 + 1)) / 2\n",
    "end\n",
    "SS"
   ]
  },
  {
   "cell_type": "markdown",
   "id": "d0a9a6be",
   "metadata": {},
   "source": [
    "which gives exactly the same result as the previous approach.\n",
    "\n",
    ">**Note**\n",
    ">\n",
    ">This last construction for the exchange interaction immediatly generalizes to any value of\n",
    "the physical spin. All we need is to fill in the appropriate values for the uncoupled irreps\n",
    "$ l_1 $, $ l_2 $, $ l_3 $ and $ l_4 $.\n",
    "\n",
    "\n",
    "<a id='sun-heisenberg'></a>"
   ]
  },
  {
   "cell_type": "markdown",
   "id": "e1c5e1db",
   "metadata": {},
   "source": [
    "### $ \\mathrm{SU}(N) $ generalization\n",
    "\n",
    "We end this subsection with some comments on the generalization of the above discussion to\n",
    "$ \\mathrm{SU}(N) $. As foreshadowed above, the irreps of $ \\mathrm{SU}(N) $ in general have an\n",
    "even more complicated structure. In particular, they can admit so-called *fusion\n",
    "multiplicities*, where the fusion of two irreps can have not only multiple distinct\n",
    "outcomes, but they can even fuse to a given irrep in multiple inequivalent ways. We can\n",
    "demonstrate this behavior for the adjoint representation of $ \\mathrm{SU}(3) $. For this we\n",
    "can use the the\n",
    "[SUNRepresentations.jl](https://github.com/maartenvd/SUNRepresentations.jl/tree/master)\n",
    "package which provides an interface for working with irreps of $ \\mathrm{SU}(N) $ and their\n",
    "Clebsch-Gordan coefficients. A particular representation is represented by an `SUNIrrep{N}`\n",
    "which can be used with TensorKit.jl. The eight-dimensional adjoint representation of\n",
    "$ \\mathrm{SU}(3) $ is given by"
   ]
  },
  {
   "cell_type": "code",
   "execution_count": null,
   "id": "f675903b",
   "metadata": {
    "hide-output": false
   },
   "outputs": [],
   "source": [
    "l = SU3Irrep(\"8\")"
   ]
  },
  {
   "cell_type": "markdown",
   "id": "c3571719",
   "metadata": {},
   "source": [
    "If we look at the possible outcomes of fusing two adjoint irreps, we find the by now\n",
    "familiar non-Abelian fusion behavior,"
   ]
  },
  {
   "cell_type": "code",
   "execution_count": null,
   "id": "ec388ceb",
   "metadata": {
    "hide-output": false
   },
   "outputs": [],
   "source": [
    "collect(l ⊗ l)"
   ]
  },
  {
   "cell_type": "markdown",
   "id": "f3cdf2a1",
   "metadata": {},
   "source": [
    "However, this particular fusion has multiplicities, since the adjoint irrep can actually\n",
    "fuse to itself in two distinct ways. The full decomposition of this fusion product is given\n",
    "by\n",
    "\n",
    "$$\n",
    "\\mathbf{8} \\otimes \\mathbf{8} = \\mathbf{1} \\oplus \\mathbf{3} \\oplus 2 \\cdot \\mathbf{8} \\oplus \\mathbf{10} \\oplus \\mathbf{\\overline{10}} \\oplus \\mathbf{27}\n",
    "$$\n",
    "\n",
    "This fusion multiplicity can be detected by using\n",
    "[`Nsymbol`](https://jutho.github.io/TensorKit.jl/latest/lib/sectors/#TensorKit.Nsymbol)\n",
    "method from TensorKit.jl to inspect the number of times `l` appears in the fusion product\n",
    "`l ⊗ l`,"
   ]
  },
  {
   "cell_type": "code",
   "execution_count": null,
   "id": "10a79b82",
   "metadata": {
    "hide-output": false
   },
   "outputs": [],
   "source": [
    "Nsymbol(l, l, l)"
   ]
  },
  {
   "cell_type": "markdown",
   "id": "14133b08",
   "metadata": {},
   "source": [
    "When working with irreps with fusion multiplicities, each `FusionTree` carries additional\n",
    "`vertices` labels which label which of the distinct fusion vertices is being referred to. We\n",
    "will return to this at the end of this section.\n",
    "\n",
    "Given the generators $ T^k $ of $ \\mathrm{SU}(N) $, we can define a generalized Heisenberg model\n",
    "using a similar exchange interaction, giving the Hamiltonian\n",
    "\n",
    "$$\n",
    "H = J \\sum_{\\langle i,j \\rangle} \\vec{T}_i \\cdot \\vec{T}_j\n",
    "$$\n",
    "\n",
    "For a particular choice of physical irrep, the exchange interaction can again be constructed\n",
    "as a symmetric `TensorMap` by first rewriting it as\n",
    "\n",
    "$$\n",
    "\\vec{T}_i \\cdot \\vec{T}_j = \\frac{1}{2} \\left( \\left( \\vec{T}_i + \\vec{T}_j \\right)^2 - \\vec{T}_i^2 - \\vec{T}_j^2 \\right).\n",
    "$$\n",
    "\n",
    "For any $ N $, the [quadratic Casimir](https://en.wikipedia.org/wiki/Casimir_element#Quadratic_Casimir_element)\n",
    "\n",
    "$$\n",
    "\\Omega = \\sum_k T^k T^k\n",
    "$$\n",
    "\n",
    "commutes with all $ \\mathrm{SU}(N) $ generators, meaning it has a well defined eigenvalue in\n",
    "each irrep. This observation then immediately given the reduced matrix elements of the\n",
    "exchange interaction as\n",
    "\n",
    "![https://quantumghent.github.io/TensorTutorials/_static/SymmetricTensors/SUN_fusiontrees.svg](https://quantumghent.github.io/TensorTutorials/_static/SymmetricTensors/SUN_fusiontrees.svg)\n",
    "\n",
    "  \n",
    "Using these to directly construct the corresponding symmetric `TensorMap` is much simpler\n",
    "than going through the explicit projection procedure using Clebsch-Gordan coefficients.\n",
    "\n",
    "For the particular example of $ \\mathrm{SU}(3) $, the generators are given by $ T^k =\n",
    "\\frac{1}{2} \\lambda^k $ , where $ \\lambda^k $ are the\n",
    "[Gell-Mann matrices](https://en.wikipedia.org/wiki/Clebsch%E2%80%93Gordan_coefficients_for_SU%283%29#Generators_of_the_Lie_algebra).\n",
    "Each irrep can be labeled as $ l = D(p,q) $ where $ p $ and $ q $ are refered to as the *Dynkin\n",
    "labels*. The eigenvalue of the quadratic Casimir for a given irrep is given by\n",
    "[Freudenthal’s formula](https://en.wikipedia.org/wiki/Weyl_character_formula#Freudenthal's_formula),\n",
    "\n",
    "$$\n",
    "\\Omega(D(p,q)) = \\frac{1}{3} (p^2 + q^2 + 3p + 3q + pq).\n",
    "$$\n",
    "\n",
    "Using SUNRepresentations.jl, we can compute the Casimir as"
   ]
  },
  {
   "cell_type": "code",
   "execution_count": null,
   "id": "5ed2b8cf",
   "metadata": {
    "hide-output": false
   },
   "outputs": [],
   "source": [
    "function casimir(l::SU3Irrep)\n",
    "    p, q = dynkin_label(l)\n",
    "    return (p^2 + q^2 + 3 * p + 3 * q + p * q) / 3\n",
    "end"
   ]
  },
  {
   "cell_type": "markdown",
   "id": "14f55d77",
   "metadata": {},
   "source": [
    "If we use the adjoint representation of $ \\mathrm{SU}(3) $ as physical space, the Heisenberg\n",
    "exchange interaction can then be constructed as"
   ]
  },
  {
   "cell_type": "code",
   "execution_count": null,
   "id": "b4d4b821",
   "metadata": {
    "hide-output": false
   },
   "outputs": [],
   "source": [
    "V = Vect[SUNIrrep{3}](SU3Irrep(\"8\") => 1)\n",
    "TT = TensorMap(zeros, ComplexF64, V ⊗ V ← V ⊗ V)\n",
    "for (s, f) in fusiontrees(TT)\n",
    "    l3 = f.uncoupled[1]\n",
    "    l4 = f.uncoupled[2]\n",
    "    k = f.coupled\n",
    "    TT[s, f] .= (casimir(k) - casimir(l3) - casimir(l4)) / 2\n",
    "end\n",
    "TT"
   ]
  },
  {
   "cell_type": "markdown",
   "id": "f76a1ce0",
   "metadata": {},
   "source": [
    "Circling back to our earlier remark, we clearly see that the fusion trees of this tensor\n",
    "indeed have non-trivial vertex labels."
   ]
  },
  {
   "cell_type": "code",
   "execution_count": null,
   "id": "409e67df",
   "metadata": {
    "hide-output": false
   },
   "outputs": [],
   "source": [
    "f = collect(fusiontrees(TT))[3][2]"
   ]
  },
  {
   "cell_type": "code",
   "execution_count": null,
   "id": "69765601",
   "metadata": {
    "hide-output": false
   },
   "outputs": [],
   "source": [
    "f.vertices"
   ]
  },
  {
   "cell_type": "markdown",
   "id": "90c147e4",
   "metadata": {},
   "source": [
    ">**Note**\n",
    ">\n",
    ">While we have given an explicit example using $ \\mathrm{SU}(3) $ with the adoint irrep on the\n",
    "physical level, the same construction holds for the general $ \\mathrm{SU}(N) $ with arbitrary\n",
    "physical irreps. All we require is the expression for the eigenvalues of the quadratic\n",
    "Casimir in each irrep."
   ]
  },
  {
   "cell_type": "markdown",
   "id": "3902da56",
   "metadata": {},
   "source": [
    "## Level 5: Anyonic Symmetries and the Golden Chain\n",
    "\n",
    "While we have focussed exclusively on group-like symmetries in our discussion so far, the\n",
    "framework of symmetric tensors actually extends beyond groups to so-called\n",
    "[*categorical symmetries*](https://jutho.github.io/TensorKit.jl/stable/man/sectors/#ss_representationtheory).\n",
    "These are quite exotic symmetries characterized in terms of\n",
    "[the topological data of a unitary fusion category](https://jutho.github.io/TensorKit.jl/stable/man/categories/#ss_topologicalfusion).\n",
    "While the precise details of all the terms in these statements fall beyond the scope of this\n",
    "tutorial, we can give a simple example of a Hamiltonian model with a categorical symmetry\n",
    "called [the golden chain](https://arxiv.org/abs/cond-mat/0612341).\n",
    "\n",
    "This is a one-dimensional system defined as a spin chain, where each physical ‘spin’\n",
    "corresponds to a so-called [Fibonacci anyon](https://arxiv.org/abs/0902.3275). There are two\n",
    "such Fibonacci anyons, which we will denote as $ 1 $ and $ \\tau $. They obey the fusion rules\n",
    "\n",
    "$$\n",
    "1 \\otimes 1 = 1, \\quad 1 \\otimes \\tau = \\tau, \\quad \\tau \\otimes \\tau = 1 \\oplus \\tau.\n",
    "$$\n",
    "\n",
    "The Hilbert space of a chain of Fibonacci anyons is not a regular tensor product space, but\n",
    "rather a *constrained Hilbert space* where the only allowed basis states are labeled by\n",
    "valid Fibonacci fusion configurations. In the golden chain model, we define a\n",
    "nearest-neighbor Hamiltonian on this Hilbert space by imposing an energy penalty when two\n",
    "neighboring anyons fuse to a $ \\tau $ anyon.\n",
    "\n",
    "Even just writing down an explicit expression for this interaction on such a constrained\n",
    "Hilbert space is not entirely straightforward. However, using the framework of symmetric\n",
    "tensors it can actually be explicitly constructed in a very straightforward way. Indeed,\n",
    "TensorKit.jl supports a dedicated\n",
    "[`FibonacciAnyon`](https://jutho.github.io/TensorKit.jl/latest/lib/sectors/#TensorKit.FibonacciAnyon)\n",
    "sector type which can be used to construct precisely such a constrained Fibonacci-graded\n",
    "vector space. A Hamiltonian\n",
    "\n",
    "$$\n",
    "H = \\sum_{\\langle i,j \\rangle} h_{ij}\n",
    "$$\n",
    "\n",
    "which favors neighboring anyons fusing to the vacuum can be constructed as a `TensorMap` on\n",
    "the product space of two Fibonacci-graded physical spaces"
   ]
  },
  {
   "cell_type": "code",
   "execution_count": null,
   "id": "a1082baf",
   "metadata": {
    "hide-output": false
   },
   "outputs": [],
   "source": [
    "V = Vect[FibonacciAnyon](:τ => 1)"
   ]
  },
  {
   "cell_type": "markdown",
   "id": "62a12d35",
   "metadata": {},
   "source": [
    "and assigning the following nonzero block value to the two-site fusion trees\n",
    "\n",
    "![https://quantumghent.github.io/TensorTutorials/_static/SymmetricTensors/Fib_fusiontrees.svg](https://quantumghent.github.io/TensorTutorials/_static/SymmetricTensors/Fib_fusiontrees.svg)\n",
    "\n",
    "  \n",
    "This allows us to define this, at first sight, exotic and complicated Hamiltonian in a few\n",
    "simple lines of code,"
   ]
  },
  {
   "cell_type": "code",
   "execution_count": null,
   "id": "6ae998c7",
   "metadata": {
    "hide-output": false
   },
   "outputs": [],
   "source": [
    "h = TensorMap(ones, V ⊗ V ← V ⊗ V)\n",
    "for (s, f) in fusiontrees(h)\n",
    "    h[s, f] .= f.coupled == FibonacciAnyon(:I) ? -1 : 0\n",
    "end\n",
    "h"
   ]
  },
  {
   "cell_type": "markdown",
   "id": "686eb02a",
   "metadata": {},
   "source": [
    ">**Note**\n",
    ">\n",
    ">In the previous section we have stressed the role of Clebsch-Gordan coefficients in the\n",
    "structure of symmetric tensors, and how they can be used to map between the representation\n",
    "of an operator in the irrep basis and its symmetric tensor representation. However, for\n",
    "categorical symmetries such as the Fibonacci anyons, there are no Clebsch-Gordan\n",
    "coefficients. Therefore, the ‘matrix elements of the operator in the irrep basis’ are not\n",
    "well-defined, meaning that a Fibonacci-symmetric tensor cannot actually be converted to a\n",
    "plain array in a meaningful way."
   ]
  },
  {
   "cell_type": "markdown",
   "id": "d4da5a0d",
   "metadata": {},
   "source": [
    "## To Be Added\n",
    "\n",
    "- Add section on product symmetries and how to work with them.  \n",
    "  - Discuss the Hubbard model with $ f\\mathbb{Z}_2 \\boxtimes \\mathrm{U}(1) \\boxtimes \\mathrm{SU}(2) $ as an example.  \n",
    "- Add a section on classical $ O(N) $ models to illustrate the (‘Fourier’) transformation from the group element to the irrep basis for continuous symmetries.  "
   ]
  }
 ],
 "metadata": {
  "date": 1710251882.3019004,
  "filename": "SymmetricTensors.md",
  "kernelspec": {
   "display_name": "Julia",
   "language": "julia",
   "name": "julia-1.9"
  },
  "title": "A Symmetric Tensor Deep Dive: Constructing Your First Tensor Map"
 },
 "nbformat": 4,
 "nbformat_minor": 5
}