{
 "cells": [
  {
   "cell_type": "markdown",
   "id": "072d1b73",
   "metadata": {},
   "source": [
    "# Finite Entanglement Scaling\n",
    "\n",
    "Tutorial on finite entanglement scaling with uniform MPS, using [MPSKit.jl](https://github.com/maartenvd/MPSKit.jl).\n",
    "\n",
    "*Coming soon*."
   ]
  }
 ],
 "metadata": {
  "date": 1716673955.9613535,
  "filename": "FiniteEntanglementScaling.md",
  "kernelspec": {
   "display_name": "Julia",
   "language": "julia",
   "name": "julia-1.9"
  },
  "title": "Finite Entanglement Scaling"
 },
 "nbformat": 4,
 "nbformat_minor": 5
}