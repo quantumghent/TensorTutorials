{
 "cells": [
  {
   "cell_type": "markdown",
   "id": "f963484e",
   "metadata": {},
   "source": [
    "# Finite Entanglement Scaling\n",
    "\n",
    "Tutorial on finite entanglement scaling with uniform MPS, using [MPSKit.jl](https://github.com/maartenvd/MPSKit.jl).\n",
    "\n",
    "*Coming soon*."
   ]
  }
 ],
 "metadata": {
  "date": 1708800322.2215378,
  "filename": "FiniteEntanglementScaling.md",
  "kernelspec": {
   "display_name": "Julia",
   "language": "julia",
   "name": "julia-1.9"
  },
  "title": "Finite Entanglement Scaling"
 },
 "nbformat": 4,
 "nbformat_minor": 5
}