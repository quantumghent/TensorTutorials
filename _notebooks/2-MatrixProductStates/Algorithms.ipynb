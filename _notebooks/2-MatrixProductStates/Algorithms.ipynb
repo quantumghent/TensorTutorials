{
 "cells": [
  {
   "cell_type": "markdown",
   "id": "77dde675",
   "metadata": {},
   "source": [
    "# Algorithms\n",
    "\n",
    "1. Basic Algorithms  \n",
    "  - *Simple Update*  \n",
    "  - Trotterization  \n",
    "  - TEBD  "
   ]
  }
 ],
 "metadata": {
  "date": 1695133656.1132298,
  "filename": "Algorithms.md",
  "kernelspec": {
   "display_name": "Julia",
   "language": "julia",
   "name": "julia-1.9"
  },
  "title": "Algorithms"
 },
 "nbformat": 4,
 "nbformat_minor": 5
}