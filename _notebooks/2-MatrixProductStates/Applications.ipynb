{
 "cells": [
  {
   "cell_type": "markdown",
   "id": "eae48e1f",
   "metadata": {},
   "source": [
    "# Applications\n",
    "\n",
    "1. Applications  \n",
    "  - Transverse-Field Ising Model  \n",
    "  - Classical Ising Model  "
   ]
  }
 ],
 "metadata": {
  "date": 1695277016.0370612,
  "filename": "Applications.md",
  "kernelspec": {
   "display_name": "Julia",
   "language": "julia",
   "name": "julia-1.9"
  },
  "title": "Applications"
 },
 "nbformat": 4,
 "nbformat_minor": 5
}