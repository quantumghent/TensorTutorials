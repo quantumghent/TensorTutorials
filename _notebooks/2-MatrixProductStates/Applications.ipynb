{
 "cells": [
  {
   "cell_type": "markdown",
   "id": "cf6fc82c",
   "metadata": {},
   "source": [
    "# Applications\n",
    "\n",
    "1. Applications  \n",
    "  - Transverse-Field Ising Model  \n",
    "  - Classical Ising Model  "
   ]
  }
 ],
 "metadata": {
  "date": 1695307659.0197606,
  "filename": "Applications.md",
  "kernelspec": {
   "display_name": "Julia",
   "language": "julia",
   "name": "julia-1.9"
  },
  "title": "Applications"
 },
 "nbformat": 4,
 "nbformat_minor": 5
}