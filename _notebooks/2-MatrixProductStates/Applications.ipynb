{
 "cells": [
  {
   "cell_type": "markdown",
   "id": "6f4b9546",
   "metadata": {},
   "source": [
    "# Applications\n",
    "\n",
    "1. Applications  \n",
    "  - Transverse-Field Ising Model  \n",
    "  - Classical Ising Model  "
   ]
  }
 ],
 "metadata": {
  "date": 1695224380.7333095,
  "filename": "Applications.md",
  "kernelspec": {
   "display_name": "Julia",
   "language": "julia",
   "name": "julia-1.9"
  },
  "title": "Applications"
 },
 "nbformat": 4,
 "nbformat_minor": 5
}