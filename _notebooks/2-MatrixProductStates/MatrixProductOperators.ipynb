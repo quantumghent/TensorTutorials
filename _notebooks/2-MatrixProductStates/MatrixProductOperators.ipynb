{
 "cells": [
  {
   "cell_type": "markdown",
   "id": "f484b5b8",
   "metadata": {},
   "source": [
    "# Matrix Product Operators\n",
    "\n",
    "1. Matrix Product Operators  \n",
    "  - Statistical mechanics as an MPO  \n",
    "  - Jordan-block form of MPO  \n",
    "  - expectation values  "
   ]
  }
 ],
 "metadata": {
  "date": 1695127317.8555543,
  "filename": "MatrixProductOperators.md",
  "kernelspec": {
   "display_name": "Julia",
   "language": "julia",
   "name": "julia-1.9"
  },
  "title": "Matrix Product Operators"
 },
 "nbformat": 4,
 "nbformat_minor": 5
}