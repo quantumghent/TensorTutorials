{
 "cells": [
  {
   "cell_type": "markdown",
   "id": "c0345aee",
   "metadata": {},
   "source": [
    "# Matrix Product Operators\n",
    "\n",
    "If Matrix Product States are a tensor network way of representing quantum states in one\n",
    "dimensions, we can similarly use tensor networks to represent the operators that act on\n",
    "these states. Matrix Product Operators (MPOs) form a structured and convenient description\n",
    "of such operators, that can capture most (if not all) relevant operators. Additionally, they\n",
    "also form a natural way of representing the transfer matrix of a 2D statistical mechanical\n",
    "system, and can even be used to study higher dimensional systems by mapping them to quasi-1D\n",
    "systems.\n",
    "\n",
    "In this lecture, we will discuss the construction of MPOs, as well as showcase their use\n",
    "through [MPSKit.jl](https://github.com/maartenvd/MPSKit.jl) and\n",
    "[MPSKitModels.jl](https://github.com/maartenvd/MPSKitModels.jl)."
   ]
  },
  {
   "cell_type": "code",
   "execution_count": null,
   "id": "d204879e",
   "metadata": {
    "hide-output": false
   },
   "outputs": [],
   "source": [
    "using TensorKit\n",
    "using MPSKit\n",
    "using MPSKitModels"
   ]
  },
  {
   "cell_type": "markdown",
   "id": "ce9c9a07",
   "metadata": {},
   "source": [
    "In general, an MPO is a chain of tensors, where each tensor has two physical indices and two\n",
    "virtual indices:\n",
    "\n",
    "![https://quantumghent.github.io/TensorTutorials/_static/MPO/mpo.svg](https://quantumghent.github.io/TensorTutorials/_static/MPO/mpo.svg)\n",
    "\n",
    "\n",
    "<a id='statmech-mpo'></a>"
   ]
  },
  {
   "cell_type": "markdown",
   "id": "4e391cd6",
   "metadata": {},
   "source": [
    "## Statistical Mechanics in 2D\n",
    "\n",
    "Before discussing one-dimensional transfer matrices, let us first consider how partition\n",
    "functions of two-dimensional classical many-body systems can be naturally represented as a\n",
    "tensor network. To this end, consider the partition function of the\n",
    "[classical Ising model](https://en.wikipedia.org/wiki/Ising_model),\n",
    "\n",
    "$$\n",
    "\\mathcal Z = \\sum_{\\{s_i\\}} \\text{e}^{-\\beta H(\\{s_i\\})},\n",
    "$$\n",
    "\n",
    "where $ s_i $ denotes a configuration of spins, and $ H(\\{s_i\\}) $ is the corresponding\n",
    "energy, as determined by the Hamiltonian:\n",
    "\n",
    "$$\n",
    "H(\\{s_i\\}) = -J \\sum_{\\langle i,j \\rangle} s_i s_j\n",
    "$$\n",
    "\n",
    "where the first sum is over nearest neighbors."
   ]
  },
  {
   "cell_type": "markdown",
   "id": "7d800151",
   "metadata": {},
   "source": [
    "### Partition Functions as Tensor Networks\n",
    "\n",
    "As the expression for the partition function is an exponential of a sum, we can also write\n",
    "it as a product of exponentials, which can be reduced to the following network:\n",
    "\n",
    "![https://quantumghent.github.io/TensorTutorials/_static/MPO/partition_function_1.svg](https://quantumghent.github.io/TensorTutorials/_static/MPO/partition_function_1.svg)\n",
    "\n",
    "Here, the black dots at the vertices represent Kronecker $ \\delta $-tensors,\n",
    "\n",
    "![https://quantumghent.github.io/TensorTutorials/_static/MPO/kronecker.svg](https://quantumghent.github.io/TensorTutorials/_static/MPO/kronecker.svg)\n",
    "\n",
    "and the matrices $ t $ encode the Boltzmann weights associated to each nearest-neighbor interaction,\n",
    "\n",
    "![https://quantumghent.github.io/TensorTutorials/_static/MPO/boltzmann.svg](https://quantumghent.github.io/TensorTutorials/_static/MPO/boltzmann.svg)\n",
    "\n",
    "It is then simple, albeit somewhat involved to check that contracting this network gives\n",
    "rise to the partition function, where the sum over all configurations is converted into the\n",
    "summations in the contractions of the network. Finally, it is more common to absorb the edge\n",
    "tensors into the vertex tensors by explicitly contracting them, such that the remaining\n",
    "network consists of tensors at the vertices only:\n",
    "\n",
    "![https://quantumghent.github.io/TensorTutorials/_static/MPO/partition_function.svg](https://quantumghent.github.io/TensorTutorials/_static/MPO/partition_function.svg)\n",
    "\n",
    ">**Note**\n",
    ">\n",
    ">Because there are two edges per vertex, an intuitive way of absorbing the edge tensors is to\n",
    "absorb for example the left and bottom edge tensors into the vertex tensor. However, this\n",
    "leads to a slightly asymmetric form, and more commonly the square root $ q $ of the Boltzmann\n",
    "matrices is taken, such that each vertex tensor absorbs such a factor from each of the\n",
    "edges, resulting in a rotation-invariant form.\n",
    "\n",
    "![https://quantumghent.github.io/TensorTutorials/_static/MPO/boltzmann_mpo.svg](https://quantumghent.github.io/TensorTutorials/_static/MPO/boltzmann_mpo.svg)\n",
    "\n",
    "In particular, the construction of the operator that makes up the MPO can be achieved in a\n",
    "few lines of code, through the use of TensorKit:"
   ]
  },
  {
   "cell_type": "code",
   "execution_count": null,
   "id": "73a2164d",
   "metadata": {
    "hide-output": false
   },
   "outputs": [],
   "source": [
    "β = 1.0\n",
    "\n",
    "# construct edge tensors\n",
    "t = TensorMap(ComplexF64[exp(β) exp(-β); exp(-β) exp(β)], ℂ^2, ℂ^2)\n",
    "q = sqrt(t)\n",
    "\n",
    "# construct vertex tensors\n",
    "δ = TensorMap(zeros, ComplexF64, ℂ^2 ⊗ ℂ^2, ℂ^2 ⊗ ℂ^2)\n",
    "δ[1, 1, 1, 1] = 1.0\n",
    "δ[2, 2, 2, 2] = 1.0\n",
    "\n",
    "# absorb edge tensors\n",
    "@tensor O[-1 -2; -3 -4] := δ[1 2; 3 4] * q[-1; 1] * q[-2; 2] * q[3; -3] * q[4; -4]"
   ]
  },
  {
   "cell_type": "markdown",
   "id": "800596af",
   "metadata": {},
   "source": [
    "### Transfer Matrices\n",
    "\n",
    "In order to then evaluate the partition function, we can use the\n",
    "[Transfer-matrix method](https://en.wikipedia.org/wiki/Transfer-matrix_method), which is a\n",
    "technique that splits the two-dimensional network into rows (or columns) of so-called\n",
    "transfer matrices, which are already represented as MPOs. In fact, this method has even led\n",
    "to the famous exact solution of the two-dimensional Ising model by Onsager.\n",
    "[[Onsager, 1944](https://quantumghent.github.io/TensorTutorials/../References.html#id20)].\n",
    "\n",
    "![https://quantumghent.github.io/TensorTutorials/_static/MPO/transfer.svg](https://quantumghent.github.io/TensorTutorials/_static/MPO/transfer.svg)\n",
    "\n",
    "In the context of tensor networks, this technique is even useful beyond exactly solvable\n",
    "cases, as efficient algorithms exist to determine the product of an MPO with an MPS in an\n",
    "approximate manner. This allows us to efficiently split the computation of the partition\n",
    "function in a sequence of one-dimensional contractions, thus reducing the complexity of the\n",
    "problem by solving it layer by layer."
   ]
  },
  {
   "cell_type": "markdown",
   "id": "b5186f0a",
   "metadata": {},
   "source": [
    "### Thermodynamic Limit\n",
    "\n",
    "Importantly, this technique is not limited to finite systems, and in fact allows for the\n",
    "computation of the partition function of systems directly in the thermodynamic limit,\n",
    "alleviating the need to consider finite-size effects and extrapolation techniques. The key\n",
    "insight that allows for this is that the partition function may be written as\n",
    "\n",
    "$$\n",
    "\\mathcal Z = \\lim_{N \\to \\infty} \\mathrm{Tr} \\left( T^N \\right)\n",
    "$$\n",
    "\n",
    "where $ T $ is the row-to-row transfer matrix, and $ N $ is the number of rows (or columns) in\n",
    "the network. If we then consider the spectral decomposition of the transfer matrix, we can\n",
    "easily show that as the number of rows goes to infinity, the largest eigenvalue of the\n",
    "transfer matrix dominates, and the partition function is given by\n",
    "\n",
    "$$\n",
    "\\mathcal Z = \\lim_{N \\to \\infty} \\lambda_{\\mathrm{max}}^N \\braket{\\psi}{\\psi}\n",
    "$$\n",
    "\n",
    "where $ \\lambda_{\\mathrm{max}} $ is the largest eigenvalue of the transfer matrix, and\n",
    "$ \\ket{\\psi} $ is the corresponding (MPS) eigenvector. In other words, the partition function\n",
    "can be computed if it is possible to find the largest eigenvalue of the transfer matrix, for\n",
    "which efficient algorithms exist.\n",
    "\n",
    "For example, one can resort to many types of *boundary MPS techniques*\n",
    "[[Zauner-Stauber *et al.*, 2018](https://quantumghent.github.io/TensorTutorials/../References.html#id14)], which are a generic class of algorithms to\n",
    "numerically solve these kinds of problems. In particular, they all rely on an efficient way\n",
    "of finding an (approximate) solution to the following problem:\n",
    "\n",
    "![https://quantumghent.github.io/TensorTutorials/_static/MPO/boundary_mps.svg](https://quantumghent.github.io/TensorTutorials/_static/MPO/boundary_mps.svg)"
   ]
  },
  {
   "cell_type": "markdown",
   "id": "0adfa4d4",
   "metadata": {},
   "source": [
    "### Expectation Values\n",
    "\n",
    "In order to compute relevant quantities for such systems, we can verify that the expectation\n",
    "value of an operator $ O $ is given by the weighing the value of that operator for a given\n",
    "microstate, with the probability of that microstate:\n",
    "\n",
    "$$\n",
    "\\langle O \\rangle = \\frac{1}{\\mathcal Z} \\sum_{\\{s_i\\}} O(\\{s_i\\})\\text{e}^{-\\beta\n",
    "H(\\{s_i\\})}\n",
    "$$\n",
    "\n",
    "For a local operator $ O_i $, this can again be written as a tensor network, where a single\n",
    "Kronecker tensor at a vertex is replaced with a tensor measuring the operator, and then\n",
    "absorbing the remaining edge tensors:\n",
    "\n",
    "![https://quantumghent.github.io/TensorTutorials/_static/MPO/expectation_value.svg](https://quantumghent.github.io/TensorTutorials/_static/MPO/expectation_value.svg)\n",
    "\n",
    "For example, in the case of the magnetisation $ O = \\sigma_z $, the tensor $ M $ can be\n",
    "explicitly constructed as follows:"
   ]
  },
  {
   "cell_type": "code",
   "execution_count": null,
   "id": "67bce593",
   "metadata": {
    "hide-output": false
   },
   "outputs": [],
   "source": [
    "Z = TensorMap(ComplexF64[1.0 0.0; 0.0 -1.0], ℂ^2, ℂ^2)\n",
    "@tensor M[-1 -2; -3 -4] := δ[1 2; 3 4] * Z[4; 5] * q[-1; 1] * q[-2; 2] * q[3; -3] * q[5; -4]"
   ]
  },
  {
   "cell_type": "markdown",
   "id": "e0ed3072",
   "metadata": {},
   "source": [
    "Using this network, the expectation value can be computed by first contracting the top and\n",
    "bottom part, replacing them by their fixed-point MPS representations, and then contracting\n",
    "the remaining MPS-MPO-MPS sandwich. This is achieved by similarly contracting the left and\n",
    "right part, replacing them by their fixed-point tensors, which are commonly called the\n",
    "*environments* $ G_L $ and $ G_R $, respectively. The final resulting network is then just a\n",
    "local network, which can be contracted efficiently.\n",
    "\n",
    "![https://quantumghent.github.io/TensorTutorials/_static/MPO/expectation_value2.svg](https://quantumghent.github.io/TensorTutorials/_static/MPO/expectation_value2.svg)\n",
    "\n",
    ">**Note**\n",
    ">\n",
    ">This process of sequentally reducing the dimensionality of the network can even be further\n",
    "extended, where 3D systems can be studied by first determining a 2D boundary PEPS, for which\n",
    "a 1D boundary MPS can be determined, which admits 0D boundary tensors. This kind of\n",
    "algorithms are commonly referred to as *boundary methods*.\n",
    "\n",
    "\n",
    "<a id='hamiltonian-mpo'></a>"
   ]
  },
  {
   "cell_type": "markdown",
   "id": "6708f143",
   "metadata": {},
   "source": [
    "## Quantum Mechanics in 1+1D\n",
    "\n",
    "For quantum systems in one spatial dimension, the construction of MPOs boils down to the\n",
    "ability to write a sum of local operators in MPO-form. The resulting operator has a very\n",
    "specific structure, and is often referred to as a *Jordan block MPO*."
   ]
  },
  {
   "cell_type": "markdown",
   "id": "2a955d40",
   "metadata": {},
   "source": [
    "### Jordan Block MPOs\n",
    "\n",
    "For example, if we consider the\n",
    "[Transverse-field Ising model](https://en.wikipedia.org/wiki/Transverse-field_Ising_model),\n",
    "\n",
    "$$\n",
    "H = -J \\sum X_j X_{j+1} - h \\sum Z_j\n",
    "$$\n",
    "\n",
    "it can be represented as an MPO through the (operator-valued) matrix,\n",
    "\n",
    "$$\n",
    "W = \\begin{pmatrix}\n",
    "1 & X & -hZ \\\\ \n",
    "0 & 0 & -JX \\\\\n",
    "0 & 0 & 1\n",
    "\\end{pmatrix}\n",
    "$$\n",
    "\n",
    "along with the boundary vectors,\n",
    "\n",
    "$$\n",
    "v_L = \\begin{pmatrix}\n",
    "1 & 0 & 0\n",
    "\\end{pmatrix}\n",
    ", \\qquad \n",
    "v_R = \\begin{pmatrix}\n",
    "0 \\\\ 0 \\\\ 1\n",
    "\\end{pmatrix}\n",
    "$$\n",
    "\n",
    "The Hamiltonian on $ N $ sites is then given by the contraction\n",
    "\n",
    "$$\n",
    "H = V_L W^{\\otimes N} V_R\n",
    "$$\n",
    "\n",
    ">**Note**\n",
    ">\n",
    ">While the above example can be constructed from building blocks that are strictly local\n",
    "operators, this is not always the case, especially when symmetries are involved. In those\n",
    "cases, the elements of the matrix $ W $ have additional virtual legs that are contracted\n",
    "between different sites."
   ]
  },
  {
   "cell_type": "markdown",
   "id": "43cd646f",
   "metadata": {},
   "source": [
    "### Finite-State Machines\n",
    "\n",
    "An intuitive approach to construct such MPOs is to consider the sum of local\n",
    "terms by virtue of a\n",
    "[finite-state machine](https://en.wikipedia.org/wiki/Finite-state_machine). This is a\n",
    "mathematical model of computation that consists of a finite set of states, and a set of\n",
    "transitions between those states. In the context of MPOs, this is realised by associating\n",
    "each *virtual level* with a state, and each transition then corresponds to applying a local\n",
    "operator. In that regard, the MPO is then a representation of the state of the finite-state\n",
    "machine, and the matrix $ W $ is the transition matrix of the machine.\n",
    "\n",
    "In general, the matrix $ W $ can then be thought of as a block matrix with entries\n",
    "\n",
    "$$\n",
    "\\begin{pmatrix}\n",
    "1 & C & D \\\\\n",
    "0 & A & B \\\\\n",
    "0 & 0 & 1\n",
    "\\end{pmatrix}\n",
    "$$\n",
    "\n",
    "which corresponds to the finite-state diagram:\n",
    "\n",
    "It can then be shown that this MPO generates all single-site local operators $ D $, two-site\n",
    "operators $ CB $, three-site operators $ CAB $, and so on. In other words, the MPO is a\n",
    "representation of the sum of all local operators, and by carefully extending the structure\n",
    "of the blocks $ A $, $ B $, $ C $, and $ D $, it is possible to construct MPOs that represent sums\n",
    "of generic local terms, and even approximate long-range interactions by a sum of\n",
    "exponentials.\n",
    "\n",
    "To gain a bit more understanding of this, we can use the following code to reconstruct the\n",
    "total sum of local terms, starting from the Jordan MPO construction:"
   ]
  },
  {
   "cell_type": "code",
   "execution_count": null,
   "id": "93d9229f",
   "metadata": {
    "hide-output": false
   },
   "outputs": [],
   "source": [
    "using Symbolics\n",
    "\n",
    "L = 4\n",
    "# generate W matrices\n",
    "@variables A[1:L] B[1:L] C[1:L] D[1:L]\n",
    "Ws = map(1:L) do l\n",
    "    return [1 C[l] D[l]\n",
    "            0 A[l] B[l]\n",
    "            0 0    1]\n",
    "end\n",
    "\n",
    "# generate boundary vectors\n",
    "Vₗ = [1, 0, 0]'\n",
    "Vᵣ = [0, 0, 1]\n",
    "\n",
    "# expand the MPO\n",
    "expand(Vₗ * prod(Ws) * Vᵣ)"
   ]
  },
  {
   "cell_type": "markdown",
   "id": "221913bc",
   "metadata": {},
   "source": [
    "### Expectation Values\n",
    "\n",
    "In order to compute expectation values of such MPOs, we can use the same technique as\n",
    "before, and sandwich the MPO between two MPSs.\n",
    "\n",
    "However, care must be taken when the goal is to determine a local expectation value density,\n",
    "as this is not necessarily well-defined. In fact, the MPO represents the sum of all local\n",
    "terms, and sandwiching it will always lead to the total energy. In order to consistently\n",
    "define local contributions, a choice must be made how to *distribute* this among the sites.\n",
    "For example, even in the case of two-site local operators, it is unclear if this local\n",
    "expectation value should be accredited to the left, or right site, or even split between\n",
    "both sites. In the implementation of MPSKit, the chosen convention is to distribute the\n",
    "expectation value evenly among its starting and ending point, in order to not overcount\n",
    "contributions of long-range interactions.\n",
    "\n",
    "Typically this is achieved by renormalizing the environment tensors in a particular way,\n",
    "such that then local expectation values can be obtained by either contracting the first row\n",
    "of $ W $ with the right regularized environment, or the last column of $ W $ with the left\n",
    "regularized environment. This respectively yields the expectation value of all terms\n",
    "starting at that site, or all terms ending at that site.\n",
    "\n",
    "Again, it can prove instructive to write this out explicitly for some small examples to gain\n",
    "some intuition. Doing this programatically, we get all terms starting at some site as\n",
    "follows:"
   ]
  },
  {
   "cell_type": "code",
   "execution_count": null,
   "id": "0b650f09",
   "metadata": {
    "hide-output": false
   },
   "outputs": [],
   "source": [
    "Ws_reg_right = Ws .- Ref([1 0 0; 0 0 0; 0 0 0])\n",
    "expand(Vₗ * Ws_reg_right[end-2] * Ws_reg_right[end-1] * Ws_reg_right[end] * Vᵣ)"
   ]
  },
  {
   "cell_type": "markdown",
   "id": "9dd32157",
   "metadata": {},
   "source": [
    "and similarly all terms ending at some site as follows:"
   ]
  },
  {
   "cell_type": "code",
   "execution_count": null,
   "id": "ebf9073c",
   "metadata": {
    "hide-output": false
   },
   "outputs": [],
   "source": [
    "Ws_reg_left = Ws .- Ref([0 0 0; 0 0 0; 0 0 1])\n",
    "expand(Vₗ * Ws_reg_left[1] * Ws_reg_left[2] * Ws_reg_left[3] * Vᵣ)"
   ]
  },
  {
   "cell_type": "markdown",
   "id": "86ff8f3d",
   "metadata": {},
   "source": [
    "### Jordan MPOs in the Thermodynamic Limit\n",
    "\n",
    "In the thermodynamic limit, the same MPO construction can be used to represent the infinite\n",
    "sum of local terms. However, special care must be taken when considering expectation values,\n",
    "as now only local expectation values are well-defined, and the total energy diverges with\n",
    "the system size.\n",
    "\n",
    "This is achieved by considering the same regularization of the environment tensors, such\n",
    "that the divergent parts are automatically removed. This construction can be found in more\n",
    "detail in [[Hubig *et al.*, 2017](https://quantumghent.github.io/TensorTutorials/../References.html#id22)]."
   ]
  },
  {
   "cell_type": "markdown",
   "id": "fb94755e",
   "metadata": {},
   "source": [
    "### Quasi-1D Systems\n",
    "\n",
    "Finally, it is worth noting that the MPO construction can also be used to study\n",
    "two-dimensional systems, by mapping them to quasi-one-dimensional systems. This is typically\n",
    "achieved by imposing periodic boundary conditions in one of the spatial directions, and then\n",
    "*snaking* an MPS through the resulting lattice. In effect, this leads to a one-dimensional\n",
    "model with longer-range interactions, which can then be studied using the standard MPS\n",
    "techniques. However, the\n",
    "[no free lunch theorem](https://en.wikipedia.org/wiki/No_free_lunch_theorem) applies here as\n",
    "well, and the resulting model will typically require a bond dimension that grows\n",
    "exponentially with the periodic system size, in order to achieve the area law of\n",
    "entanglement in two-dimensional systems."
   ]
  },
  {
   "cell_type": "markdown",
   "id": "f818ad77",
   "metadata": {},
   "source": [
    "### MPSKitModels and the `@mpoham` Macro\n",
    "\n",
    "While the above construction of MPOs is quite general, it is also quite cumbersome to\n",
    "manually construct, especially when dealing with complicated lattices or non-trivial unit\n",
    "cells. To this end, the package\n",
    "[MPSKitModels.jl](https://github.com/maartenvd/MPSKitModels.jl) offers a convenient way of\n",
    "constructing these MPOs automatically, by virtue of the `@mpoham` macro. This macro allows\n",
    "for the construction of MPOs by specifying the local operators that are present in the\n",
    "Hamiltonian, and the lattice on which they act. For example, we can construct the MPO for\n",
    "the Heisenberg models with nearest- or next-nearest-neighbor interactions as follows:"
   ]
  },
  {
   "cell_type": "code",
   "execution_count": null,
   "id": "c13b5624",
   "metadata": {
    "hide-output": false
   },
   "outputs": [],
   "source": [
    "J₁ = 1.2\n",
    "SS = S_exchange() # predefined operator in MPSKitModels\n",
    "\n",
    "lattice = InfiniteChain(1)\n",
    "H₁ = @mpoham begin\n",
    "    sum(J₁ * SS{i, j} for (i, j) in nearest_neighbours(lattice))\n",
    "end"
   ]
  },
  {
   "cell_type": "code",
   "execution_count": null,
   "id": "156d7e45",
   "metadata": {
    "hide-output": false
   },
   "outputs": [],
   "source": [
    "lattice = InfiniteCylinder(4)\n",
    "H₂ = @mpoham begin\n",
    "    sum(J₁ * SS{i, j} for (i, j) in nearest_neighbours(lattice))\n",
    "end"
   ]
  },
  {
   "cell_type": "code",
   "execution_count": null,
   "id": "28e13e26",
   "metadata": {
    "hide-output": false
   },
   "outputs": [],
   "source": [
    "J₂ = 0.8\n",
    "lattice = InfiniteCylinder(4)\n",
    "H₃ = @mpoham begin\n",
    "    sum(J₁ * SS{i, j} for (i, j) in nearest_neighbours(lattice)) +\n",
    "    sum(J₂ * SS{i, j} for (i, j) in next_nearest_neighbours(lattice))\n",
    "end"
   ]
  },
  {
   "cell_type": "markdown",
   "id": "aa83ae20",
   "metadata": {},
   "source": [
    "## Conclusion\n",
    "\n",
    "In conclusion, Matrix Product Operators are a powerful tool to represent quantum operators\n",
    "as well as transfer matrices. They allow for efficient and versatile expressions of\n",
    "expectation values, and form the building block for many tensor network algorithms, both in\n",
    "(1+1) or (2+0) dimensions, as well as in higher dimensions."
   ]
  }
 ],
 "metadata": {
  "date": 1697717358.6762853,
  "filename": "MatrixProductOperators.md",
  "kernelspec": {
   "display_name": "Julia",
   "language": "julia",
   "name": "julia-1.9"
  },
  "title": "Matrix Product Operators"
 },
 "nbformat": 4,
 "nbformat_minor": 5
}