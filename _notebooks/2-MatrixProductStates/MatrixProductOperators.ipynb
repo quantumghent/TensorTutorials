{
 "cells": [
  {
   "cell_type": "markdown",
   "id": "7f316207",
   "metadata": {},
   "source": [
    "# Matrix Product Operators\n",
    "\n",
    "1. Matrix Product Operators  \n",
    "  - Statistical mechanics as an MPO  \n",
    "  - Jordan-block form of MPO  \n",
    "  - expectation values  "
   ]
  }
 ],
 "metadata": {
  "date": 1695148195.9164047,
  "filename": "MatrixProductOperators.md",
  "kernelspec": {
   "display_name": "Julia",
   "language": "julia",
   "name": "julia-1.9"
  },
  "title": "Matrix Product Operators"
 },
 "nbformat": 4,
 "nbformat_minor": 5
}