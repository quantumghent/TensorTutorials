{
 "cells": [
  {
   "cell_type": "markdown",
   "id": "7578b277",
   "metadata": {},
   "source": [
    "# Infinite Matrix Product States\n",
    "\n",
    "This section discusses matrix product states (MPS) in the thermodynamic limit and their\n",
    "properties. Our discussion is mostly based on the excellent review\n",
    "[[Vanderstraeten *et al.*, 2019](https://quantumghent.github.io/TensorTutorials/../References.html#id4)], which provides a thorough technical overview of\n",
    "tangent-space methods for uniform MPS. The formal exposition is supplemented with some very\n",
    "basic code examples on working with infinite MPS using\n",
    "[MPSKit.jl](https://github.com/maartenvd/MPSKit.jl) at the end of this section. For more\n",
    "details on the numerical implementation of routines for uniform MPS we refer to the Julia\n",
    "version of the [tutorials on uniform MPS](https://github.com/leburgel/uniformMpsTutorial),\n",
    "which is again based on [[Vanderstraeten *et al.*, 2019](https://quantumghent.github.io/TensorTutorials/../References.html#id4)]."
   ]
  },
  {
   "cell_type": "markdown",
   "id": "ed9aa35d",
   "metadata": {},
   "source": [
    "## Contents\n",
    "\n",
    "- [Infinite Matrix Product States](#Infinite-Matrix-Product-States)  \n",
    "  - [Matrix Product States in the Thermodynamic Limit](#Matrix-Product-States-in-the-Thermodynamic-Limit)  \n",
    "    - [Representation](#Representation)  \n",
    "    - [Normalization](#Normalization)  \n",
    "    - [Expectation Values](#Expectation-Values)  \n",
    "    - [Correlation Functions](#Correlation-Functions)  \n",
    "  - [Gauging Revisited](#Gauging-Revisited)  \n",
    "    - [Gauging in the Thermodynamic Limit](#Gauging-in-the-Thermodynamic-Limit)  \n",
    "    - [Expectation Values Revisited](#Expectation-Values-Revisited)  \n",
    "    - [Entanglement Entropy](#Entanglement-Entropy)  \n",
    "    - [Truncation](#Truncation)  \n",
    "    - [Code Example: `MPSKit.InfiniteMPS`](#Code-Example:-MPSKit.InfiniteMPS)  "
   ]
  },
  {
   "cell_type": "markdown",
   "id": "89e32065",
   "metadata": {},
   "source": [
    "## Matrix Product States in the Thermodynamic Limit"
   ]
  },
  {
   "cell_type": "markdown",
   "id": "f133a151",
   "metadata": {},
   "source": [
    "### Representation\n",
    "\n",
    "The finite MPS representation introduced in the previous previous section can be readily\n",
    "extended to the thermodynamic limit by constructing a quantum state of an infinite spin system as a product of an infinite chain of tensors. For infinite systems which are invariant under translations, it is natural to also impose transation-invariance on the corresponding MPS. This leads to a *uniform* MPS which has the same tensor $ A^{(i)} := A $ at every site, where $ A $ again has a physical dimension $ d $ and bond dimension $ D $. In diagramatic notation, a uniform MPS can be represented as\n",
    "\n",
    "![https://quantumghent.github.io/TensorTutorials/_static/InfiniteMPS/umps.svg](https://quantumghent.github.io/TensorTutorials/_static/InfiniteMPS/umps.svg)\n",
    "\n",
    ">**Note**\n",
    ">\n",
    ">In some cases, instead of assuming an MPS has the same tensor at each site it is more\n",
    "natural to use a state with a non-trivial repeating unit cell. A uniform MPS with a unit\n",
    "cell of size three would for example correspond to the state\n",
    "\n",
    "![https://quantumghent.github.io/TensorTutorials/_static/InfiniteMPS/umps3.svg](https://quantumghent.github.io/TensorTutorials/_static/InfiniteMPS/umps3.svg)\n",
    "\n",
    "While we will restrict our discussion to MPS with a single-site unit cell, most concepts and\n",
    "techniques apply just as well to the multi-site unit cell case.\n",
    "\n",
    "One of the central objects when working with MPS in the thermodynamic limit is the transfer operator or\n",
    "*transfer matrix*, defined in our case as\n",
    "\n",
    "![https://quantumghent.github.io/TensorTutorials/_static/InfiniteMPS/tm.svg](https://quantumghent.github.io/TensorTutorials/_static/InfiniteMPS/tm.svg)\n",
    "\n",
    "The transfer matrix corresponds to an operator acting on the space of $ D\\times D $ matrices,\n",
    "and can be interpreted as a 4-leg tensor $ \\mathbb C^D \\otimes \\mathbb C^D \\leftarrow \\mathbb\n",
    "C^D \\otimes \\mathbb C^D $. The transfer matrix can be shown to be a completely positive map,\n",
    "such that its leading eigenvalue is a positive number. The eigenvalues of the transfer\n",
    "matrix characterize the normalization and correlation length of a uniform MPS, while its\n",
    "eigenvectors can be used to evaluate expectation values of local observables."
   ]
  },
  {
   "cell_type": "markdown",
   "id": "6cb89d66",
   "metadata": {},
   "source": [
    "### Normalization\n",
    "\n",
    "The norm of a uniform MPS corresponds to a contraction of the form\n",
    "\n",
    "![https://quantumghent.github.io/TensorTutorials/_static/InfiniteMPS/mpsNorm.svg](https://quantumghent.github.io/TensorTutorials/_static/InfiniteMPS/mpsNorm.svg)\n",
    "\n",
    "Clearly, this norm is nothing more than an infinite product of MPS transfer matrices defined\n",
    "above. Consider the spectral decomposition of the $ n $th power $ \\mathbb E^n $,\n",
    "\n",
    "![https://quantumghent.github.io/TensorTutorials/_static/InfiniteMPS/tmPower.svg](https://quantumghent.github.io/TensorTutorials/_static/InfiniteMPS/tmPower.svg)\n",
    "\n",
    "where $ l $ and $ r $ are the left and right fixed points which correspond to the largest\n",
    "magnitude eigenvalue $ \\lambda_0 $ of $ \\mathbb E $,\n",
    "\n",
    "![https://quantumghent.github.io/TensorTutorials/_static/InfiniteMPS/fixedPoints.svg](https://quantumghent.github.io/TensorTutorials/_static/InfiniteMPS/fixedPoints.svg)\n",
    "\n",
    "and the $ \\lambda_i $ represent the remaining eigenvalues of smaller mangitude, where writing the spectral decomposition we have implicitly assumed that the fixed points are properly normalized as\n",
    "\n",
    "![https://quantumghent.github.io/TensorTutorials/_static/InfiniteMPS/traceNorm.svg](https://quantumghent.github.io/TensorTutorials/_static/InfiniteMPS/traceNorm.svg)\n",
    "\n",
    "Taking the\n",
    "limit of this spectral dexomposition, it follows that the infinite product of transfer matrices reduces\n",
    "to a projector onto the fixed points corresponding to the leading eigenvalue $ \\lambda_0 $,\n",
    "\n",
    "![https://quantumghent.github.io/TensorTutorials/_static/InfiniteMPS/tmLimit.svg](https://quantumghent.github.io/TensorTutorials/_static/InfiniteMPS/tmLimit.svg)\n",
    "\n",
    "To ensure a properly normalized state we should therefore rescale the leading eigenvalue\n",
    "$ \\lambda_0 $ to one by rescaling the MPS tensor as $ A \\leftarrow A / \\sqrt{\\lambda_0} $.\n",
    "\n",
    "With these properties in place, the norm of an MPS reduces to the overlap between the\n",
    "boundary vectors and the fixed points. Since there is no effect of the boundary vectors on\n",
    "the bulk properties of the MPS, we can always choose these such that MPS is properly\n",
    "normalized as $ \\left \\langle \\psi(\\bar{A})\\middle | \\psi(A) \\right \\rangle = 1 $."
   ]
  },
  {
   "cell_type": "markdown",
   "id": "bf20ecd1",
   "metadata": {},
   "source": [
    "### Expectation Values\n",
    "\n",
    "The fixed points of the transfer matrix can for example be to compute expectation values of\n",
    "operators. Suppose we wish to evaluate expectation values of an extensive operator,\n",
    "\n",
    "$$\n",
    "O = \\frac{1}{\\mathbb{Z}} \\sum_{n \\in \\mathbb{Z}} O_n.\n",
    "$$\n",
    "\n",
    "If we assume that each $ O_n $ acts on a single site and we are working with a properly\n",
    "normalized MPS, translation invariance dictates that the expectation value of $ O $ is given\n",
    "by the contraction\n",
    "\n",
    "![https://quantumghent.github.io/TensorTutorials/_static/InfiniteMPS/expVal.svg](https://quantumghent.github.io/TensorTutorials/_static/InfiniteMPS/expVal.svg)\n",
    "\n",
    "In the uniform gauge, we can use the fixed points of the transfer matrix to contract\n",
    "everything to the left and to the right of the operator, such that we are left with the\n",
    "contraction\n",
    "\n",
    "![https://quantumghent.github.io/TensorTutorials/_static/InfiniteMPS/expVal2.svg](https://quantumghent.github.io/TensorTutorials/_static/InfiniteMPS/expVal2.svg)\n",
    "\n",
    "\n",
    "<a id='imps-corr'></a>"
   ]
  },
  {
   "cell_type": "markdown",
   "id": "ce755388",
   "metadata": {},
   "source": [
    "### Correlation Functions\n",
    "\n",
    "Correlation functions are computed similarly. Let us look at\n",
    "\n",
    "$$\n",
    "c^{\\alpha\\beta}(m,n) = \\bra{\\psi(\\bar A)} (O^\\beta_m)^\\dagger O^\\alpha_n \\ket{\\psi(A)},\n",
    "$$\n",
    "\n",
    "where $ m $ and $ n $ are abritrary locations in the chain, and, because of translation\n",
    "invariance, the correlation function only depends on the difference $ m-n $. Again, we\n",
    "contract everything to the left and right of the operators by inserting the fixed points $ l $\n",
    "and $ r $, so that\n",
    "\n",
    "![https://quantumghent.github.io/TensorTutorials/_static/InfiniteMPS/corrFunc.svg](https://quantumghent.github.io/TensorTutorials/_static/InfiniteMPS/corrFunc.svg)\n",
    "\n",
    "From this expression, we learn that it is the transfer matrix that determines the\n",
    "correlations in the ground state. Indeed, if we again use the spectral decomposition of the\n",
    "transfer matrix, recalling that now $ \\lambda_0 = 0 $, we can see that the correlation\n",
    "function reduces to\n",
    "\n",
    "![https://quantumghent.github.io/TensorTutorials/_static/InfiniteMPS/corrFunc2.svg](https://quantumghent.github.io/TensorTutorials/_static/InfiniteMPS/corrFunc2.svg)\n",
    "\n",
    "The first part is just the product of the expectation values of $ O^\\alpha $ and $ O^\\beta $,\n",
    "called the disconnected part of the correlation function, and the rest is an exponentially\n",
    "decaying part. This expression implies that connected correlation functions of an MPS\n",
    "*always* decay exponentially, which is one of the reasons why MPS generally have a harder\n",
    "time dealing with critical states. The correlation length $ \\xi $ is determined by the second\n",
    "largest eigenvalue of the transfer matrix $ \\lambda_1 $ as\n",
    "\n",
    "$$\n",
    "\\xi = -\\frac{1}{\\log|\\lambda_\\mathrm{max}|}.\n",
    "$$\n",
    "\n",
    ">**Note**\n",
    ">\n",
    ">The subleading eigenvalues of the transfer matrix typically also have a physical meaning,\n",
    "because they correspond to subleading correlations in the system. For example, by focussing\n",
    "on eigenvalues in a specific symmetry sector one can target the correlations associated to\n",
    "exitations corresponding to that particular symmetry. The subleading eigenvalues also play a\n",
    "crucial role in the powerful technique of *finite entanglement scaling* for infinite MPS\n",
    "[[Rams *et al.*, 2018](https://quantumghent.github.io/TensorTutorials/../References.html#id8)]. Using this framework we can accurately capture critical phenomena\n",
    "using MPS, despite the ansatz inherently having exponentially decaying correlations."
   ]
  },
  {
   "cell_type": "markdown",
   "id": "4a996c85",
   "metadata": {},
   "source": [
    "## Gauging Revisited"
   ]
  },
  {
   "cell_type": "markdown",
   "id": "8acf33ec",
   "metadata": {},
   "source": [
    "### Gauging in the Thermodynamic Limit\n",
    "\n",
    "While a given MPS tensor $ A $ corresponds to a unique state $ \\left | \\psi(A) \\right \\rangle $,\n",
    "the converse is not true, as different tensors may give rise to the same state. This is\n",
    "easily seen by noting that the gauge transform\n",
    "\n",
    "![https://quantumghent.github.io/TensorTutorials/_static/InfiniteMPS/gaugeTransform.svg](https://quantumghent.github.io/TensorTutorials/_static/InfiniteMPS/gaugeTransform.svg)\n",
    "\n",
    "leaves the physical state invariant. We may use this freedom in parametrization to impose\n",
    "canonical forms on the MPS tensor $ A $.\n",
    "\n",
    "We start by considering the *left-orthonormal form* of an MPS, which is defined in terms of\n",
    "a tensor $ A_L $ that satisfies the condition\n",
    "\n",
    "![https://quantumghent.github.io/TensorTutorials/_static/InfiniteMPS/leftOrth.svg](https://quantumghent.github.io/TensorTutorials/_static/InfiniteMPS/leftOrth.svg)\n",
    "\n",
    "We can find the gauge transform $ L $ that brings $ A $ into this form\n",
    "\n",
    "![https://quantumghent.github.io/TensorTutorials/_static/InfiniteMPS/leftGauge.svg](https://quantumghent.github.io/TensorTutorials/_static/InfiniteMPS/leftGauge.svg)\n",
    "\n",
    "using an iterative procedure based on the QR docomposition, where starting from some initial\n",
    "guess $ L^0 $ we repeatedly perform the QR-based update\n",
    "\n",
    "![https://quantumghent.github.io/TensorTutorials/_static/InfiniteMPS/qrStep.svg](https://quantumghent.github.io/TensorTutorials/_static/InfiniteMPS/qrStep.svg)\n",
    "\n",
    "This iterative procedure is bound to converge to a fixed point for which\n",
    "$ L^{(i+1)}=L^{(i)}=L $ and $ A_L $ is left orthonormal by construction:\n",
    "\n",
    "![https://quantumghent.github.io/TensorTutorials/_static/InfiniteMPS/qrConv.svg](https://quantumghent.github.io/TensorTutorials/_static/InfiniteMPS/qrConv.svg)\n",
    "\n",
    "Note that this left gauge choice still leaves room for unitary gauge transformations\n",
    "\n",
    "![https://quantumghent.github.io/TensorTutorials/_static/InfiniteMPS/unitaryGauge.svg](https://quantumghent.github.io/TensorTutorials/_static/InfiniteMPS/unitaryGauge.svg)\n",
    "\n",
    "which can be used to bring the right fixed point $ r $ into diagonal form. Similarly, we can\n",
    "find the gauge transform that brings $ A $ into *right-orthonormal form*\n",
    "\n",
    "![https://quantumghent.github.io/TensorTutorials/_static/InfiniteMPS/rightGauge.svg](https://quantumghent.github.io/TensorTutorials/_static/InfiniteMPS/rightGauge.svg)\n",
    "\n",
    "such that\n",
    "\n",
    "![https://quantumghent.github.io/TensorTutorials/_static/InfiniteMPS/rightOrth.svg](https://quantumghent.github.io/TensorTutorials/_static/InfiniteMPS/rightOrth.svg)\n",
    "\n",
    "and the left fixed point $ l $ is diagonal. A right-orthonormal tensor $ A_R $ and a matrix $ R $\n",
    "such that $ A R = R A_R $ can be found using a similar iterative procedure.\n",
    "\n",
    "Finally, we can define a *mixed gauge* for the uniform MPS by choosing one site, the ‘center\n",
    "site’, and bringing all tensors to the left of it in the left-orthonormal form and all the\n",
    "tensors to the right of it in the right-orthonormal form. Defining a new tensor $ A_C $ on the\n",
    "center site, we obtain the form\n",
    "\n",
    "![https://quantumghent.github.io/TensorTutorials/_static/InfiniteMPS/mixedGauge.svg](https://quantumghent.github.io/TensorTutorials/_static/InfiniteMPS/mixedGauge.svg)\n",
    "\n",
    "By contrast, the original representation using the same tensor at every site is commonly\n",
    "referred to as the *uniform gauge*. The mixed gauge has an intuitive interpretation.\n",
    "Defining $ C = LR $, this tensor then implements the gauge transform that maps the\n",
    "left-orthonormal tensor to the right-orthonormal one, thereby defining the center-site\n",
    "tensor $ A_C $:\n",
    "\n",
    "![https://quantumghent.github.io/TensorTutorials/_static/InfiniteMPS/mixedGauge2.svg](https://quantumghent.github.io/TensorTutorials/_static/InfiniteMPS/mixedGauge2.svg)\n",
    "\n",
    "This relation is called the mixed gauge condition and allows us to freely move the center\n",
    "tensor $ A_C $ through the MPS, linking the left- and right orthonormal tensors.\n",
    "\n",
    "Finally we may bring $ C $ into diagonal form by performing a singular value decomposition $ C\n",
    "= USV^\\dagger $ and absorbing $ U $ and $ V^\\dagger $ into the definition of $ A_L $ and $ A_R $\n",
    "using the residual unitary gauge freedom\n",
    "\n",
    "![https://quantumghent.github.io/TensorTutorials/_static/InfiniteMPS/diagC.svg](https://quantumghent.github.io/TensorTutorials/_static/InfiniteMPS/diagC.svg)\n",
    "\n",
    ">**Note**\n",
    ">\n",
    ">When working in the mixed gauge, the normalization of the MPS is entirely determined by that\n",
    "of the center tensors $ A_C $ and $ C $. Indeed, it is easily seen that requiring that an MPS is\n",
    "normalized now reduces to\n",
    "\n",
    "![https://quantumghent.github.io/TensorTutorials/_static/InfiniteMPS/normAC.svg](https://quantumghent.github.io/TensorTutorials/_static/InfiniteMPS/normAC.svg)\n",
    "\n",
    "or alternatively to $ {\\rm tr}(C^\\dagger C) = 1 $."
   ]
  },
  {
   "cell_type": "markdown",
   "id": "ebb45bc6",
   "metadata": {},
   "source": [
    "### Expectation Values Revisited\n",
    "\n",
    "In the mixed gauge, we can locate the center site where the operator is acting, and then\n",
    "contract everything to the left and right to the identity to arrive at the particularly\n",
    "simple expression for the expectation value\n",
    "\n",
    "![https://quantumghent.github.io/TensorTutorials/_static/InfiniteMPS/expVal3.svg](https://quantumghent.github.io/TensorTutorials/_static/InfiniteMPS/expVal3.svg)"
   ]
  },
  {
   "cell_type": "markdown",
   "id": "8e334d72",
   "metadata": {},
   "source": [
    "### Entanglement Entropy\n",
    "\n",
    "The mixed canonical form with a diagonal $ C $ now allows to straightforwardly write down a\n",
    "Schmidt decomposition of the state across an arbitrary bond in the chain\n",
    "\n",
    "$$\n",
    "\\left | \\psi(A) \\right \\rangle = \\sum_{i=1}^{D} C_i \\left | \\psi^i_L(A_L) \\right \\rangle \\otimes \\left | \\psi^i_R(A_R) \\right \\rangle,\n",
    "$$\n",
    "\n",
    "where the states $ \\left | \\psi^i_L(A_L) \\right \\rangle $ and $ \\left | \\psi^i_R(A_R) \\right\n",
    "\\rangle $ are orthogonal states on half the lattice. The diagonal elements $ C_i $ are exactly\n",
    "the Schmidt coefficient of any bipartition of the MPS, and as such determine its bipartite\n",
    "entanglement entropy\n",
    "\n",
    "$$\n",
    "S = -\\sum_i C_i^2 \\log(C_i^2) .\n",
    "$$"
   ]
  },
  {
   "cell_type": "markdown",
   "id": "e7f45642",
   "metadata": {},
   "source": [
    "### Truncation\n",
    "\n",
    "The mixed canonical form also enables efficient truncatation of an MPS. The sum in the above\n",
    "Schmidt decomposition can be truncated, giving rise to a new MPS that has a reduced bond\n",
    "dimension for that bond. This truncation is optimal in the sense that the norm between the\n",
    "original and the truncated MPS is maximized. To arrive at a translation invariant truncated\n",
    "MPS, we can truncate the columns of the absorbed isometries $ U $ and $ V^\\dagger $\n",
    "correspondingly, thereby transforming *every* tensor $ A_L $ or $ A_R $. The truncated MPS in\n",
    "the mixed gauge is then given by\n",
    "\n",
    "![https://quantumghent.github.io/TensorTutorials/_static/InfiniteMPS/truncMPS.svg](https://quantumghent.github.io/TensorTutorials/_static/InfiniteMPS/truncMPS.svg)\n",
    "\n",
    "We note that the resulting state based on this local truncation is not guaranteed to\n",
    "correspond to the MPS with a lower bond dimension that is globally optimal. This would\n",
    "require a variational optimization of the cost function.\n",
    "\n",
    "$$\n",
    "\\left | \\left | ~\\left | \\psi(A) \\right \\rangle - \\left | \\psi(\\tilde{A}) \\right \\rangle ~\\right | \\right |^2.\n",
    "$$"
   ]
  },
  {
   "cell_type": "markdown",
   "id": "e9e69cb6",
   "metadata": {},
   "source": [
    "### Code Example: `MPSKit.InfiniteMPS`\n",
    "\n",
    "The Julia package [MPSKit.jl](https://github.com/maartenvd/MPSKit.jl) provides many tools\n",
    "for working with infinite MPS. Without going into much detail, we can already check some\n",
    "aspects of our discussion above with this numerical implementation.\n",
    "\n",
    "We can construct an\n",
    "[`MPSKit.InfiniteMPS`](https://maartenvd.github.io/MPSKit.jl/dev/lib/lib/#MPSKit.InfiniteMPS)\n",
    "by specifying the physical and virtual vector spaces of the MPS. We will use standard\n",
    "complex vector spaces as specified by a\n",
    "[`TensorKit.ComplexSpace`](https://jutho.github.io/TensorKit.jl/latest/lib/spaces/#TensorKit.ComplexSpace),\n",
    "and choose a physical dimension $ d = 3 $ and bond dimension $ D = 5 $."
   ]
  },
  {
   "cell_type": "code",
   "execution_count": null,
   "id": "01eec4a8",
   "metadata": {
    "hide-output": false
   },
   "outputs": [],
   "source": [
    "using MPSKit, TensorKit\n",
    "\n",
    "d = 3 # physical dimension\n",
    "D = 5 # bond dimension\n",
    "mps = InfiniteMPS(ℂ^d, ℂ^D)"
   ]
  },
  {
   "cell_type": "markdown",
   "id": "995d821d",
   "metadata": {},
   "source": [
    "The infinite MPS is automatically stored in the mixed canonical form introduced above. For\n",
    "example, we can check that its normalization is indeed characterized by the center gauge\n",
    "tensors $ A_C $ and $ C $."
   ]
  },
  {
   "cell_type": "code",
   "execution_count": null,
   "id": "da3ea526",
   "metadata": {
    "hide-output": false
   },
   "outputs": [],
   "source": [
    "using LinearAlgebra\n",
    "\n",
    "@show norm(mps)\n",
    "@show norm(mps.AC[1])\n",
    "@show norm(mps.CR[1]);"
   ]
  },
  {
   "cell_type": "markdown",
   "id": "d5c046c0",
   "metadata": {},
   "source": [
    "We can also explicitly verify the mixed gauge conditions on $ A_L $, $ A_R $, $ A_C $ and $ C $ by\n",
    "evaluating the corresponding tensor network diagrams using the\n",
    "[`TensorOperations.@tensor` macro](https://jutho.github.io/TensorOperations.jl/stable/man/indexnotation/#The-@tensor-macro)."
   ]
  },
  {
   "cell_type": "code",
   "execution_count": null,
   "id": "0d137485",
   "metadata": {
    "hide-output": false
   },
   "outputs": [],
   "source": [
    "using TensorOperations\n",
    "\n",
    "@tensor AL_id[-1; -2] := mps.AL[1][1 2; -2] * conj(mps.AL[1][1 2; -1])\n",
    "@tensor AR_id[-1; -2] := mps.AR[1][-1 1; 2] * conj(mps.AR[1][-2 1; 2])\n",
    "\n",
    "@assert AL_id ≈ id(space(mps.AL[1], 3)') \"AL not in left-orthonormal form!\"\n",
    "@assert AR_id ≈ id(space(mps.AR[1], 1)) \"Ar not in right-orthonormal form!\"\n",
    "\n",
    "@tensor LHS[-1 -2; -3] := mps.AL[1][-1 -2; 1] * mps.CR[1][1; -3]\n",
    "@tensor RHS[-1 -2; -3] := mps.CR[1][-1; 1] * mps.AR[1][1 -2; -3]\n",
    "\n",
    "@assert LHS ≈ RHS && RHS ≈ mps.AC[1] \"Center gauge MPS tensor not consistent!\""
   ]
  },
  {
   "cell_type": "markdown",
   "id": "4728985f",
   "metadata": {},
   "source": [
    "We can also easily evaluate the expectation value of local operators"
   ]
  },
  {
   "cell_type": "code",
   "execution_count": null,
   "id": "7c047ad0",
   "metadata": {
    "hide-output": false
   },
   "outputs": [],
   "source": [
    "O = TensorMap(randn, ℂ^d ← ℂ^d)\n",
    "expectation_value(mps, O)"
   ]
  },
  {
   "cell_type": "markdown",
   "id": "18073755",
   "metadata": {},
   "source": [
    "as well as compute the correlation length encoded in the MPS."
   ]
  },
  {
   "cell_type": "code",
   "execution_count": null,
   "id": "28ea0faf",
   "metadata": {
    "hide-output": false
   },
   "outputs": [],
   "source": [
    "correlation_length(mps)"
   ]
  },
  {
   "cell_type": "markdown",
   "id": "ad213278",
   "metadata": {},
   "source": [
    "MPSKit.jl exports a variety of infinite MPS algorithms, some of which will be discussed in\n",
    "the next section."
   ]
  }
 ],
 "metadata": {
  "date": 1695280731.4028685,
  "filename": "InfiniteMPS.md",
  "kernelspec": {
   "display_name": "Julia",
   "language": "julia",
   "name": "julia-1.9"
  },
  "title": "Infinite Matrix Product States"
 },
 "nbformat": 4,
 "nbformat_minor": 5
}