{
 "cells": [
  {
   "cell_type": "markdown",
   "id": "99eef1de",
   "metadata": {},
   "source": [
    "# Matrix Product States\n",
    "\n",
    "1. Matrix Product States  \n",
    "  - MPS as a polynomial Ansatz  \n",
    "  - entanglement and area laws  \n",
    "  - gauge freedom  \n",
    "  - expectation values  \n",
    "  - correlators  "
   ]
  }
 ],
 "metadata": {
  "date": 1695132820.6205926,
  "filename": "MatrixProductStates.md",
  "kernelspec": {
   "display_name": "Julia",
   "language": "julia",
   "name": "julia-1.9"
  },
  "title": "Matrix Product States"
 },
 "nbformat": 4,
 "nbformat_minor": 5
}