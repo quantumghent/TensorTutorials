{
 "cells": [
  {
   "cell_type": "markdown",
   "id": "65e21e1c",
   "metadata": {},
   "source": [
    "# Matrix Product States\n",
    "\n",
    "1. Matrix Product States  \n",
    "  - MPS as a polynomial Ansatz  \n",
    "  - entanglement and area laws  \n",
    "  - gauge freedom  \n",
    "  - expectation values  \n",
    "  - correlators  "
   ]
  }
 ],
 "metadata": {
  "date": 1695148778.411656,
  "filename": "MatrixProductStates.md",
  "kernelspec": {
   "display_name": "Julia",
   "language": "julia",
   "name": "julia-1.9"
  },
  "title": "Matrix Product States"
 },
 "nbformat": 4,
 "nbformat_minor": 5
}