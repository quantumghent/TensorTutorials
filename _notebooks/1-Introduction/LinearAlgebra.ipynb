{
 "cells": [
  {
   "cell_type": "markdown",
   "id": "b3ba1817",
   "metadata": {},
   "source": [
    "# (Multi-) Linear Algebra"
   ]
  },
  {
   "cell_type": "markdown",
   "id": "afbb3f2d",
   "metadata": {},
   "source": [
    "## Contents\n",
    "\n",
    "- [(Multi-) Linear Algebra](#%28Multi-%29-Linear-Algebra)  \n",
    "  - [Overview](#Overview)  \n",
    "  - [Vectors and Matrices](#Vectors-and-Matrices)  \n",
    "  - [Tensors and Tensor Products](#Tensors-and-Tensor-Products)  \n",
    "  - [Tensors and Multi-Linear Maps](#Tensors-and-Multi-Linear-Maps)  \n",
    "  - [Conclusion](#Conclusion)  "
   ]
  },
  {
   "cell_type": "markdown",
   "id": "138a309c",
   "metadata": {},
   "source": [
    "## Overview\n",
    "\n",
    "This lecture covers some basic linear algebra concepts and operations, that will serve as\n",
    "foundation for most of what follows. The goal is to provide some intuitive understanding of\n",
    "the concepts, without insisting on too much mathematical rigour. The most important goal is\n",
    "to introduce and define the concept of a tensor, without resorting to the usual mathematical\n",
    "definition, which is not very intuitive.\n",
    "\n",
    "Simultaneously, the lecture also showcases some of the features of\n",
    "[TensorKit.jl](https://github.com/Jutho/TensorKit.jl), a Julia package that is extremely\n",
    "well-suited for the demonstration of the concepts that are discussed."
   ]
  },
  {
   "cell_type": "code",
   "execution_count": null,
   "id": "22511f2a",
   "metadata": {
    "hide-output": false
   },
   "outputs": [],
   "source": [
    "using TensorKit"
   ]
  },
  {
   "cell_type": "markdown",
   "id": "aa7110b5",
   "metadata": {},
   "source": [
    "Before discussing tensor networks, it is necessary to understand what tensors are.\n",
    "Furthermore, before really understanding tensors, it is instructive to reiterate some basic\n",
    "concepts of linear algebra for the case of vectors and matrices, which are nothing but\n",
    "specific cases of tensors. In fact, many of the concepts and ideas that are introduced and\n",
    "discussed are defined in terms of thinking of tensors as vectors or matrices.\n",
    "\n",
    "In what follows, vectors and matrices will be thought of from the viewpoint of computers,\n",
    "where they are represented using regular one- and two-dimensional arrays of either real or\n",
    "complex numbers. Nevertheless, much of the discussion can be readily generalized to\n",
    "arbitrary vector spaces and linear maps."
   ]
  },
  {
   "cell_type": "markdown",
   "id": "6cc056aa",
   "metadata": {},
   "source": [
    "## Vectors and Matrices\n",
    "\n",
    "In general, a vector is an object in a vector space, which can be described by a list of\n",
    "numbers that correspond to the components of the vector in some basis. For example, a vector\n",
    "in a two-dimensional space is in its most general form described by\n",
    "$ \\vec{v} = \\left[v_1, v_2\\right]^T $.\n",
    "\n",
    "As a reminder, the defining properties of vector spaces make sure that the following\n",
    "operations are well-defined:\n",
    "\n",
    "- Vectors can be added together, i.e. $ \\vec{v} + \\vec{w} $ is a vector.  \n",
    "- Vectors can be multiplied by scalars, i.e. $ \\alpha \\vec{v} $ is a vector.  \n",
    "- These operations behave as expected, i.e. there is a notion of associativity, commutativity, and distributivity.  \n",
    "\n",
    "\n",
    "Given two such vector spaces (not necessarily distinct) it is possible to define a linear\n",
    "map between them, which is just a function that preserves the vector space structure. In\n",
    "other words, a linear map $ A \\colon W ← V $ maps vectors from one vector space $ V $ to another\n",
    "vector space $ W $. Because of the structure of vector spaces, and the requirement of\n",
    "linearity, such a map is completely determined by its action on the basis vectors of $ V $.\n",
    "This leads in a very natural way to the notion of a matrix by considering the following\n",
    "construction, where $ v_i $ are the components of $ \\vec{v} $ and $ w_i $ are the components of $ \\vec{w} $:\n",
    "\n",
    "\n",
    "<a id='equation-eq-linear-map'></a>\n",
    "$$\n",
    "\\begin{array}{rcl}\n",
    "A & : & W \\leftarrow V\\\\\n",
    "  &   & \\vec{v} ↦ A(\\vec{v}) \\equiv \\sum_j A_{ij} v_j = w_i \\equiv \\vec{w}\n",
    "\\end{array} \\tag{3.1}\n",
    "$$\n",
    "\n",
    "where $ A_{ij} $ are the components of the matrix $ A $ in these bases. In other words, the\n",
    "abstract notion of a linear map between vector spaces can be represented by a concrete\n",
    "matrix, and the action of the map is the usual matrix product.\n",
    "\n",
    "In particular, it is instructive to think of the columns of the matrix $ A $ as labelling the\n",
    "components of the input vector space, also called *domain*, while the rows label the\n",
    "component of the output vector space, or *codomain*.\n",
    "\n",
    "In the context of Julia, we can create vector spaces, vectors and matrices through a syntax\n",
    "that follows this very closely:"
   ]
  },
  {
   "cell_type": "code",
   "execution_count": null,
   "id": "2f5f3e6e",
   "metadata": {
    "hide-output": false
   },
   "outputs": [],
   "source": [
    "V = ℂ^2             # type as \\bbC<TAB> \n",
    "W = ComplexSpace(3) # equivalent to ℂ^3\n",
    "\n",
    "A = TensorMap(rand, Float64, W ← V) # ← as \\leftarrow<TAB>\n",
    "v = Tensor(rand, Float64, V)\n",
    "w = A * v\n",
    "\n",
    "w[1] ≈ A[1,1] * v[1] + A[1,2] * v[2]"
   ]
  },
  {
   "cell_type": "markdown",
   "id": "4aff9394",
   "metadata": {},
   "source": [
    "## Tensors and Tensor Products\n",
    "\n",
    "Using the same logic as above, it is possible to generalize the notion of a linear map by\n",
    "making use of the [tensor product](https://en.wikipedia.org/wiki/Tensor_product), which is\n",
    "nothing but an operation that can combine two vector spaces $ V $ and $ W $ into a new vector\n",
    "space $ V \\otimes W $. The tensor product is defined in such a way that the combination of\n",
    "vectors from the original vector spaces preserves a natural notion of linearity, i.e. the\n",
    "following equality holds for all vectors $ v \\in V $, $ w \\in W $, and scalars $ \\lambda $:\n",
    "\n",
    "\n",
    "<a id='equation-eq-tensor-product'></a>\n",
    "$$\n",
    "(\\lambda v) \\otimes w = v \\otimes (\\lambda w) = \\lambda (v \\otimes w) \\tag{3.2}\n",
    "$$"
   ]
  },
  {
   "cell_type": "code",
   "execution_count": null,
   "id": "de4f02ff",
   "metadata": {
    "hide-output": false
   },
   "outputs": [],
   "source": [
    "λ = rand()\n",
    "(λ * v) ⊗ w ≈ v ⊗ (λ * w) ≈ λ * (v ⊗ w)"
   ]
  },
  {
   "cell_type": "markdown",
   "id": "82d59e53",
   "metadata": {},
   "source": [
    "This new vector space can be equipped with a canonical basis, which is constructed by taking\n",
    "the tensor product of the basis vectors of the original vector spaces. For example, if $ V $\n",
    "and $ W $ are two-dimensional vector spaces with basis vectors $ v_i $ and $ w_j $, respectively,\n",
    "then the basis vectors of $ V \\otimes W $ are given by $ v_i \\otimes w_j $. In other words, the\n",
    "vectors in $ V \\otimes W $ are linear combinations of all combinations of the basis vectors of\n",
    "$ V $ and $ W $.\n",
    "\n",
    "When considering how to represent a vector in this new vector space, it can be written as a\n",
    "list of numbers that correspond to the components of the vector in that basis. For example,\n",
    "a vector in $ V \\otimes W $ is described by:\n",
    "\n",
    "\n",
    "<a id='equation-eq-tensor-basis'></a>\n",
    "$$\n",
    "t = \\sum_{i_1,i_2} t_{i_1i_2} (v_{i_1} \\otimes w_{i_2}) \\tag{3.3}\n",
    "$$"
   ]
  },
  {
   "cell_type": "code",
   "execution_count": null,
   "id": "cf4c7c0a",
   "metadata": {
    "hide-output": false
   },
   "outputs": [],
   "source": [
    "t = Tensor(rand, Float64, V ⊗ W)\n",
    "t[] # shorthand for extracting the multi-dimensional array of components"
   ]
  },
  {
   "cell_type": "markdown",
   "id": "7cc2788c",
   "metadata": {},
   "source": [
    "Here, the tentative name $ t $ was used to denote that this is in fact a tensor, where\n",
    "$ t_{i_1i_2} $ are the components of that tensor $ t $ in the basis $ v_{i_1} \\otimes w_{i_2} $.\n",
    "Because of the induced structure of the tensor product, it is more natural and very common\n",
    "to express this object not just as a list of numbers, but by reshaping that list into a\n",
    "matrix. In this case, the components of the $ i_1 $-th row correspond to basis vectors that\n",
    "are built from $ v_{i_1} $, and similarly the $ i_2 $-th column corresponds to basis vectors\n",
    "that are built from $ w_{i_2} $.\n",
    "\n",
    "As the tensor product can be generalized to more than two vector spaces, this finally leads\n",
    "to the general definition of a tensor as an element of the vector space that is built up\n",
    "from the tensor product of an arbitrary number of vector spaces. Additionally, the\n",
    "components of these objects are then naturally laid out in a multi-dimensional array, which\n",
    "is then by a slight misuse of terminology also called a tensor.\n",
    "\n",
    ">**Note**\n",
    ">\n",
    ">The reshaping operation of components from a list of numbers into a multi-dimensional array\n",
    "is a mapping between linear indices $ I $ and Cartesian indices $ i_1, i_2, \\cdots,\n",
    "i_N $. This is a very common and useful trick which allows reinterpreting tensors as vectors,\n",
    "or vice versa."
   ]
  },
  {
   "cell_type": "code",
   "execution_count": null,
   "id": "81bd6f03",
   "metadata": {
    "hide-output": false
   },
   "outputs": [],
   "source": [
    "LinearIndices((1:2, 1:3))"
   ]
  },
  {
   "cell_type": "code",
   "execution_count": null,
   "id": "0101259d",
   "metadata": {
    "hide-output": false
   },
   "outputs": [],
   "source": [
    "collect(CartesianIndices((1:2, 1:3))) # collect to force printing"
   ]
  },
  {
   "cell_type": "markdown",
   "id": "e3469f5a",
   "metadata": {},
   "source": [
    "## Tensors and Multi-Linear Maps\n",
    "\n",
    "Due to the fact that the tensor product of vector spaces is a vector space in of itself, it\n",
    "is again possible to define linear maps between such vector spaces. Keeping in mind the\n",
    "definition of a linear map from [(3.1)](#equation-eq-linear-map), the columns now label components of the\n",
    "input vector space, while the rows label components of the output vector space. Now however,\n",
    "the components of the input and output vector spaces are themselves comprised of a\n",
    "combination of basis vectors from the original vector spaces. If a linear order of these\n",
    "combinations can be established, the linear map can again be represented by a matrix:\n",
    "\n",
    "\n",
    "<a id='equation-eq-multilinear-map'></a>\n",
    "$$\n",
    "\\begin{array}{rcl}\n",
    "A & : & W_1 \\otimes W_2 \\otimes \\cdots \\otimes W_M \\leftarrow \n",
    "        V_1 \\otimes V_2 \\otimes \\cdots \\otimes V_N \\\\\n",
    "  &   & v_1 \\otimes v_2 \\otimes \\cdots \\otimes v_N \\mapsto \n",
    "        A(v_1 \\otimes v_2 \\otimes \\cdots \\otimes v_N) \\\\\n",
    "  &   & = \\sum_{j_1, j_2, \\cdots, j_N} A_{i_1, i_2, \\cdots, i_M; j_1, j_2, \\cdots, j_N}\n",
    "          v_{1, j_1} \\otimes v_{2, j_2} \\otimes \\cdots \\otimes v_{N, j_N} \\\\\n",
    "  &   & = \\sum_{J} A_{I;J} v_J \\\\\n",
    "  &   & = w_1 \\otimes w_2 \\otimes \\cdots \\otimes w_M \\\\\n",
    "\\end{array} \\tag{3.4}\n",
    "$$"
   ]
  },
  {
   "cell_type": "code",
   "execution_count": null,
   "id": "762688b9",
   "metadata": {
    "hide-output": false
   },
   "outputs": [],
   "source": [
    "V1 = ℂ^2\n",
    "V2 = ℂ^2\n",
    "W1 = ℂ^2\n",
    "W2 = ℂ^2\n",
    "\n",
    "A = TensorMap(rand, Float64, W1 ⊗ W2 ← V1 ⊗ V2)\n",
    "v = Tensor(rand, Float64, V1 ⊗ V2)\n",
    "w = A * v\n",
    "w[] ≈ reshape(reshape(A[], 4, 4) * reshape(v[], 4), 2, 2)"
   ]
  },
  {
   "cell_type": "markdown",
   "id": "b4271313",
   "metadata": {},
   "source": [
    "The attentive reader might have already noted that the definition of a linear map as a\n",
    "matrix strongly resembles the definition of a vector in a tensor product vector space. This\n",
    "is not a coincidence, and in fact the two can easily be identified by considering the\n",
    "following identification (isomorphism):\n",
    "\n",
    "\n",
    "<a id='equation-eq-tensor-isomorphism'></a>\n",
    "$$\n",
    "(W \\leftarrow V) \\cong (W \\otimes V^*) \\tag{3.5}\n",
    "$$"
   ]
  },
  {
   "cell_type": "code",
   "execution_count": null,
   "id": "54b2bf23",
   "metadata": {
    "hide-output": false
   },
   "outputs": [],
   "source": [
    "A = TensorMap(rand, Float64, W ← V)\n",
    "B = Tensor(rand, Float64, W ⊗ V')\n",
    "space(A, 2) == space(B, 2)"
   ]
  },
  {
   "cell_type": "markdown",
   "id": "b21b23b0",
   "metadata": {},
   "source": [
    ">**Note**\n",
    ">\n",
    ">For finite-dimensional real or complex vector spaces without additional structure, this\n",
    "isomorphism is *trivial* and is just the reshaping operation of the components of a vector\n",
    "into a matrix. However, note that this is a choice, which is not unique, and already differs\n",
    "for\n",
    "[row- and column-major order](https://en.wikipedia.org/wiki/Row-_and_column-major_order). In\n",
    "a more general setting, the identification between $ V \\otimes W^* $ and $ V \\leftarrow W $ is\n",
    "not an equivalence but an isomorphism. This means that it is still possible to relate one\n",
    "object to the other, but the operation is not necessarily trivial."
   ]
  },
  {
   "cell_type": "markdown",
   "id": "6e123a40",
   "metadata": {},
   "source": [
    "## Conclusion\n",
    "\n",
    "The entire discussion can be summarized and leads to the following equivalent definitions of\n",
    "a tensor:\n",
    "\n",
    "- A tensor is an element of a tensor product of vector spaces, which can be represented as a multi-dimensional array of numbers that indicate the components along the constituent basis vectors. Thus, a tensor is *vector-like*.  \n",
    "- A tensor is a multi-linear map between vector spaces, which can be represented as a matrix that represents the action of the map on the basis vectors of the input vector space. Thus, a tensor is *matrix-like*.  \n",
    "\n",
    "\n",
    "The equivalence of these two definitions leads to the lifting of many important facets of\n",
    "linear algebra to the multi-linear setting."
   ]
  }
 ],
 "metadata": {
  "date": 1695132820.468859,
  "filename": "LinearAlgebra.md",
  "kernelspec": {
   "display_name": "Julia",
   "language": "julia",
   "name": "julia-1.9"
  },
  "title": "(Multi-) Linear Algebra"
 },
 "nbformat": 4,
 "nbformat_minor": 5
}