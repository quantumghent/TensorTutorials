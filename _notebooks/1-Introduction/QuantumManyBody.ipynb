{
 "cells": [
  {
   "cell_type": "markdown",
   "id": "373532bd",
   "metadata": {},
   "source": [
    "# Quantum Many-Body Theory\n",
    "\n",
    "1. Introduction to Quantum Many-Body theory  \n",
    "  - context, history, purpose, relevance  \n",
    "  - second quantization  \n",
    "  - tensor product  \n",
    "  - quantum <-> classical  "
   ]
  }
 ],
 "metadata": {
  "date": 1695153404.487062,
  "filename": "QuantumManyBody.md",
  "kernelspec": {
   "display_name": "Julia",
   "language": "julia",
   "name": "julia-1.9"
  },
  "title": "Quantum Many-Body Theory"
 },
 "nbformat": 4,
 "nbformat_minor": 5
}