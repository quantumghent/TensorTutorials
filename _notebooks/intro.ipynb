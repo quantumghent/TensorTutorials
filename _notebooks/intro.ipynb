{
 "cells": [
  {
   "cell_type": "markdown",
   "id": "49bf0f3d",
   "metadata": {},
   "source": [
    "# Tensor Network Methods with Julia\n",
    "\n",
    "This is a series of tutorials on tensor network methods and their applications in quantum\n",
    "physics as well as statistical mechanics. It illustrates the theory, and aims to give\n",
    "hands-on practise by providing Julia code examples, as well as showcasing the software\n",
    "libraries that have been developed.\n",
    "\n",
    "The lectures have been designed and written by Jacob Bridgeman, Lander Burgelman, Lukas\n",
    "Devos, Jutho Haegeman, Daan Maertens, Bram Vancraeynest-De Cuiper and Kevin Vervoort."
   ]
  },
  {
   "cell_type": "markdown",
   "id": "5c900962",
   "metadata": {},
   "source": [
    "# Preliminaries\n",
    "\n",
    "- [Getting Started with Numerics](https://quantumghent.github.io/TensorTutorials/0-Preliminaries/Software.html)\n",
    "- [Useful Resources](https://quantumghent.github.io/TensorTutorials/0-Preliminaries/Resources.html)"
   ]
  },
  {
   "cell_type": "markdown",
   "id": "97c0b4dc",
   "metadata": {},
   "source": [
    "# Introduction to Quantum Many-Body Physics\n",
    "\n",
    "- [Quantum Mechanics and its Postulates](https://quantumghent.github.io/TensorTutorials/1-Introduction/QuantumMechanics.html)\n",
    "- [The Hilbert Space of Many-Body Physics](https://quantumghent.github.io/TensorTutorials/1-Introduction/ManyBody.html)\n",
    "- [Fock Space and Second Quantisation](https://quantumghent.github.io/TensorTutorials/1-Introduction/FockSpace.html)\n",
    "- [Interesting States and Observables in Quantum Many-Body Physics](https://quantumghent.github.io/TensorTutorials/1-Introduction/Observables.html)\n",
    "- [Quantum-to-Classical Mapping](https://quantumghent.github.io/TensorTutorials/1-Introduction/QuantumToClassical.html)"
   ]
  },
  {
   "cell_type": "markdown",
   "id": "2b4bc82c",
   "metadata": {},
   "source": [
    "# Tensors and Tensor Networks\n",
    "\n",
    "- [(Multi-) Linear Algebra](https://quantumghent.github.io/TensorTutorials/2-TensorNetworks/LinearAlgebra.html)\n",
    "- [Tensor Network Theory](https://quantumghent.github.io/TensorTutorials/2-TensorNetworks/TensorNetworks.html)\n",
    "- [Tensor Network States](https://quantumghent.github.io/TensorTutorials/2-TensorNetworks/TensorNetworkStates.html)\n",
    "- [Symmetries in Quantum Many-Body Physics](https://quantumghent.github.io/TensorTutorials/2-TensorNetworks/Symmetries.html)"
   ]
  },
  {
   "cell_type": "markdown",
   "id": "c93bd91f",
   "metadata": {},
   "source": [
    "# Matrix Product States\n",
    "\n",
    "- [Matrix Product States](https://quantumghent.github.io/TensorTutorials/3-MatrixProductStates/MatrixProductStates.html)\n",
    "- [Infinite Matrix Product States](https://quantumghent.github.io/TensorTutorials/3-MatrixProductStates/InfiniteMPS.html)\n",
    "- [A Simple Tensor Network Algorithm](https://quantumghent.github.io/TensorTutorials/3-MatrixProductStates/Algorithms.html)\n",
    "- [Matrix Product Operators and Applications](https://quantumghent.github.io/TensorTutorials/3-MatrixProductStates/MatrixProductOperators.html)"
   ]
  },
  {
   "cell_type": "markdown",
   "id": "8bec8fe0",
   "metadata": {},
   "source": [
    "# Tensor Network Algorithms\n",
    "\n",
    "- [Fixed-Point algorithms](https://quantumghent.github.io/TensorTutorials/4-Algorithms/FixedpointAlgorithms.html)\n",
    "- [Time Evolution](https://quantumghent.github.io/TensorTutorials/4-Algorithms/TimeEvolutionAlgorithms.html)"
   ]
  },
  {
   "cell_type": "markdown",
   "id": "274159dc",
   "metadata": {},
   "source": [
    "# In-Depth Tutorials\n",
    "\n",
    "- [A Symmetric Tensor Deep Dive: Constructing Your First Tensor Map](https://quantumghent.github.io/TensorTutorials/5-Tutorials/SymmetricTensors.html)\n",
    "- [Finite Entanglement Scaling](https://quantumghent.github.io/TensorTutorials/5-Tutorials/FiniteEntanglementScaling.html)"
   ]
  },
  {
   "cell_type": "markdown",
   "id": "a41507fe",
   "metadata": {},
   "source": [
    "# Other\n",
    "\n",
    "- [References](https://quantumghent.github.io/TensorTutorials/References.html)"
   ]
  }
 ],
 "metadata": {
  "date": 1708800322.336373,
  "filename": "intro.md",
  "kernelspec": {
   "display_name": "Julia",
   "language": "julia",
   "name": "julia-1.9"
  },
  "title": "Tensor Network Methods with Julia"
 },
 "nbformat": 4,
 "nbformat_minor": 5
}