{
 "cells": [
  {
   "cell_type": "markdown",
   "id": "cd9ac12c",
   "metadata": {},
   "source": [
    "# Tensor Network Methods with Julia\n",
    "\n",
    "This is a series of tutorials on tensor network methods and their applications in quantum\n",
    "physics as well as statistical mechanics. It illustrates the theory, and aims to give\n",
    "hands-on practise by providing Julia code examples, as well as showcasing the software\n",
    "libraries that have been developed.\n",
    "\n",
    "The lectures have been designed and written by Jacob Bridgeman, Lander Burgelman, Lukas\n",
    "Devos, Jutho Haegeman, Daan Maertens, Bram Vancraeynest-De Cuiper and Kevin Vervoort."
   ]
  },
  {
   "cell_type": "markdown",
   "id": "a700b4c0",
   "metadata": {},
   "source": [
    "# Introduction\n",
    "\n",
    "- [Quantum Many-Body Theory](https://quantumghent.github.io/TensorTutorials/1-Introduction/QuantumManyBody.html)\n",
    "- [Getting Started with Numerics](https://quantumghent.github.io/TensorTutorials/1-Introduction/Software.html)\n",
    "- [(Multi-) Linear Algebra](https://quantumghent.github.io/TensorTutorials/1-Introduction/LinearAlgebra.html)\n",
    "- [Tensor Network Theory](https://quantumghent.github.io/TensorTutorials/1-Introduction/TensorNetworks.html)\n",
    "- [Symmetries in Quantum Many-Body Physics](https://quantumghent.github.io/TensorTutorials/1-Introduction/Symmetries.html)"
   ]
  },
  {
   "cell_type": "markdown",
   "id": "75f9e0c8",
   "metadata": {},
   "source": [
    "# Matrix Product States\n",
    "\n",
    "- [Matrix Product States](https://quantumghent.github.io/TensorTutorials/2-MatrixProductStates/MatrixProductStates.html)\n",
    "- [Matrix Product Operators](https://quantumghent.github.io/TensorTutorials/2-MatrixProductStates/MatrixProductOperators.html)\n",
    "- [Infinite Matrix Product States](https://quantumghent.github.io/TensorTutorials/2-MatrixProductStates/InfiniteMPS.html)\n",
    "- [Algorithms](https://quantumghent.github.io/TensorTutorials/2-MatrixProductStates/Algorithms.html)\n",
    "- [Applications](https://quantumghent.github.io/TensorTutorials/2-MatrixProductStates/Applications.html)"
   ]
  },
  {
   "cell_type": "markdown",
   "id": "71c680ae",
   "metadata": {},
   "source": [
    "# Tensor Network Algorithms\n",
    "\n",
    "- [Fixed-Point algorithms](https://quantumghent.github.io/TensorTutorials/3-Algorithms/FixedpointAlgorithms.html)"
   ]
  },
  {
   "cell_type": "markdown",
   "id": "6d604ce9",
   "metadata": {},
   "source": [
    "# Other\n",
    "\n",
    "- [References](https://quantumghent.github.io/TensorTutorials/References.html)"
   ]
  }
 ],
 "metadata": {
  "date": 1695132820.6564114,
  "filename": "intro.md",
  "kernelspec": {
   "display_name": "Julia",
   "language": "julia",
   "name": "julia-1.9"
  },
  "title": "Tensor Network Methods with Julia"
 },
 "nbformat": 4,
 "nbformat_minor": 5
}