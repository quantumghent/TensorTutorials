{
 "cells": [
  {
   "cell_type": "markdown",
   "id": "ef9254ac",
   "metadata": {},
   "source": [
    "\n",
    "<a id='references'></a>"
   ]
  },
  {
   "cell_type": "markdown",
   "id": "a0aa59aa",
   "metadata": {},
   "source": [
    "# References\n",
    "\n",
    "<a id='id6'></a>\n",
    "\\[BC17\\] Jacob C Bridgeman and Christopher T Chubb. Hand-waving and interpretive dance: an introductory course on tensor networks. *Journal of Physics A: Mathematical and Theoretical*, 50(22):223001, may 2017. URL: [https://dx.doi.org/10.1088/1751-8121/aa6dc3](https://dx.doi.org/10.1088/1751-8121/aa6dc3), [doi:10.1088/1751-8121/aa6dc3](https://doi.org/10.1088/1751-8121/aa6dc3).\n",
    "\n",
    "<a id='id7'></a>\n",
    "\\[FTL+07\\] Adrian Feiguin, Simon Trebst, Andreas WW Ludwig, Matthias Troyer, Alexei Kitaev, Zhenghan Wang, and Michael H Freedman. Interacting anyons in topological quantum liquids: the golden chain. *Physical review letters*, 98(16):160409, 2007.\n",
    "\n",
    "<a id='id5'></a>\n",
    "\\[HCO+11\\] Jutho Haegeman, J Ignacio Cirac, Tobias J Osborne, Iztok Pižorn, Henri Verschelde, and Frank Verstraete. Time-dependent variational principle for quantum lattices. *Physical review letters*, 107(7):070601, 2011.\n",
    "\n",
    "<a id='id3'></a>\n",
    "\\[PHV14\\] Robert N. C. Pfeifer, Jutho Haegeman, and Frank Verstraete. Faster identification of optimal contraction sequences for tensor networks. *Phys. Rev. E*, 90:033315, Sep 2014. URL: [https://link.aps.org/doi/10.1103/PhysRevE.90.033315](https://link.aps.org/doi/10.1103/PhysRevE.90.033315), [doi:10.1103/PhysRevE.90.033315](https://doi.org/10.1103/PhysRevE.90.033315).\n",
    "\n",
    "<a id='id8'></a>\n",
    "\\[RCC18\\] Marek M. Rams, Piotr Czarnik, and Lukasz Cincio. Precise extrapolation of the correlation function asymptotics in uniform tensor network states with application to the Bose-Hubbard and XXZ models. *Physical Review X*, 8(4):041033, November 2018. URL: [http://arxiv.org/abs/1801.08554](http://arxiv.org/abs/1801.08554), [arXiv:1801.08554](https://arxiv.org/abs/1801.08554), [doi:10.1103/PhysRevX.8.041033](https://doi.org/10.1103/PhysRevX.8.041033).\n",
    "\n",
    "<a id='id4'></a>\n",
    "\\[VHV19\\] Laurens Vanderstraeten, Jutho Haegeman, and Frank Verstraete. Tangent-space methods for uniform matrix product states. *SciPost Physics Lecture Notes*, pages 007, January 2019. URL: [https://scipost.org/SciPostPhysLectNotes.7](https://scipost.org/SciPostPhysLectNotes.7), [arXiv:1810.07006](https://arxiv.org/abs/1810.07006), [doi:10.21468/SciPostPhysLectNotes.7](https://doi.org/10.21468/SciPostPhysLectNotes.7)."
   ]
  }
 ],
 "metadata": {
  "date": 1695132820.6465867,
  "filename": "References.md",
  "kernelspec": {
   "display_name": "Julia",
   "language": "julia",
   "name": "julia-1.9"
  },
  "title": "References"
 },
 "nbformat": 4,
 "nbformat_minor": 5
}