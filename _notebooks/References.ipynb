{
 "cells": [
  {
   "cell_type": "markdown",
   "id": "f90ad876",
   "metadata": {},
   "source": [
    "\n",
    "<a id='references'></a>"
   ]
  },
  {
   "cell_type": "markdown",
   "id": "7281b613",
   "metadata": {},
   "source": [
    "# References\n",
    "\n",
    "<a id='id6'></a>\n",
    "\\[BC17\\] Jacob C Bridgeman and Christopher T Chubb. Hand-waving and interpretive dance: an introductory course on tensor networks. *Journal of Physics A: Mathematical and Theoretical*, 50(22):223001, may 2017. URL: [https://dx.doi.org/10.1088/1751-8121/aa6dc3](https://dx.doi.org/10.1088/1751-8121/aa6dc3), [doi:10.1088/1751-8121/aa6dc3](https://doi.org/10.1088/1751-8121/aa6dc3).\n",
    "\n",
    "<a id='id7'></a>\n",
    "\\[FTL+07\\] Adrian Feiguin, Simon Trebst, Andreas WW Ludwig, Matthias Troyer, Alexei Kitaev, Zhenghan Wang, and Michael H Freedman. Interacting anyons in topological quantum liquids: the golden chain. *Physical review letters*, 98(16):160409, 2007.\n",
    "\n",
    "<a id='id5'></a>\n",
    "\\[HCO+11\\] Jutho Haegeman, J Ignacio Cirac, Tobias J Osborne, Iztok Pižorn, Henri Verschelde, and Frank Verstraete. Time-dependent variational principle for quantum lattices. *Physical review letters*, 107(7):070601, 2011.\n",
    "\n",
    "<a id='id11'></a>\n",
    "\\[HS05\\] **missing booktitle in hatano2005finding**\n",
    "\n",
    "<a id='id13'></a>\n",
    "\\[JWX08\\] H. C. Jiang, Z. Y. Weng, and T. Xiang. Accurate determination of tensor network state of quantum lattice models in two dimensions. *Physical Review Letters*, 101(9):090603, August 2008. URL: [http://arxiv.org/abs/0806.3719](http://arxiv.org/abs/0806.3719), [arXiv:0806.3719](https://arxiv.org/abs/0806.3719), [doi:10.1103/PhysRevLett.101.090603](https://doi.org/10.1103/PhysRevLett.101.090603).\n",
    "\n",
    "<a id='id14'></a>\n",
    "\\[JOrusV+08\\] J. Jordan, R. Orús, G. Vidal, F. Verstraete, and J. I. Cirac. Classical Simulation of Infinite-Size Quantum Lattice Systems in Two Spatial Dimensions. *Physical Review Letters*, 101(25):250602, December 2008. URL: [https://link.aps.org/doi/10.1103/PhysRevLett.101.250602](https://link.aps.org/doi/10.1103/PhysRevLett.101.250602), [doi:10.1103/PhysRevLett.101.250602](https://doi.org/10.1103/PhysRevLett.101.250602).\n",
    "\n",
    "<a id='id10'></a>\n",
    "\\[NO96\\] T. Nishino and K. Okunishi. Corner Transfer Matrix Renormalization Group Method. *Journal of the Physical Society of Japan*, 65(4):891–894, April 1996. URL: [http://arxiv.org/abs/cond-mat/9507087](http://arxiv.org/abs/cond-mat/9507087), [arXiv:cond-mat/9507087](https://arxiv.org/abs/cond-mat/9507087), [doi:10.1143/JPSJ.65.891](https://doi.org/10.1143/JPSJ.65.891).\n",
    "\n",
    "<a id='id3'></a>\n",
    "\\[PHV14\\] Robert N. C. Pfeifer, Jutho Haegeman, and Frank Verstraete. Faster identification of optimal contraction sequences for tensor networks. *Phys. Rev. E*, 90:033315, Sep 2014. URL: [https://link.aps.org/doi/10.1103/PhysRevE.90.033315](https://link.aps.org/doi/10.1103/PhysRevE.90.033315), [doi:10.1103/PhysRevE.90.033315](https://doi.org/10.1103/PhysRevE.90.033315).\n",
    "\n",
    "<a id='id8'></a>\n",
    "\\[RCC18\\] Marek M. Rams, Piotr Czarnik, and Lukasz Cincio. Precise extrapolation of the correlation function asymptotics in uniform tensor network states with application to the Bose-Hubbard and XXZ models. *Physical Review X*, 8(4):041033, November 2018. URL: [http://arxiv.org/abs/1801.08554](http://arxiv.org/abs/1801.08554), [arXiv:1801.08554](https://arxiv.org/abs/1801.08554), [doi:10.1103/PhysRevX.8.041033](https://doi.org/10.1103/PhysRevX.8.041033).\n",
    "\n",
    "<a id='id4'></a>\n",
    "\\[VHV19\\] Laurens Vanderstraeten, Jutho Haegeman, and Frank Verstraete. Tangent-space methods for uniform matrix product states. *SciPost Physics Lecture Notes*, pages 007, January 2019. URL: [https://scipost.org/SciPostPhysLectNotes.7](https://scipost.org/SciPostPhysLectNotes.7), [arXiv:1810.07006](https://arxiv.org/abs/1810.07006), [doi:10.21468/SciPostPhysLectNotes.7](https://doi.org/10.21468/SciPostPhysLectNotes.7).\n",
    "\n",
    "<a id='id12'></a>\n",
    "\\[Vid03\\] Guifre Vidal. Efficient classical simulation of slightly entangled quantum computations. *Physical Review Letters*, 91(14):147902, October 2003. URL: [http://arxiv.org/abs/quant-ph/0301063](http://arxiv.org/abs/quant-ph/0301063), [arXiv:quant-ph/0301063](https://arxiv.org/abs/quant-ph/0301063), [doi:10.1103/PhysRevLett.91.147902](https://doi.org/10.1103/PhysRevLett.91.147902).\n",
    "\n",
    "<a id='id9'></a>\n",
    "\\[ZaunerStauberVF+18\\] V. Zauner-Stauber, L. Vanderstraeten, M. T. Fishman, F. Verstraete, and J. Haegeman. Variational optimization algorithms for uniform matrix product states. *Physical Review B*, 97(4):045145, January 2018. URL: [http://arxiv.org/abs/1701.07035](http://arxiv.org/abs/1701.07035), [arXiv:1701.07035](https://arxiv.org/abs/1701.07035), [doi:10.1103/PhysRevB.97.045145](https://doi.org/10.1103/PhysRevB.97.045145)."
   ]
  }
 ],
 "metadata": {
  "date": 1695148195.9491513,
  "filename": "References.md",
  "kernelspec": {
   "display_name": "Julia",
   "language": "julia",
   "name": "julia-1.9"
  },
  "title": "References"
 },
 "nbformat": 4,
 "nbformat_minor": 5
}